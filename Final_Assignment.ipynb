{
 "cells": [
  {
   "cell_type": "markdown",
   "metadata": {},
   "source": [
    "## Helio Inaba - CQF June 2023 Final Project \n",
    "## Optimal Hedging with Advanced Delta Modelling"
   ]
  },
  {
   "cell_type": "markdown",
   "metadata": {},
   "source": [
    "#### Importing Libraries"
   ]
  },
  {
   "cell_type": "code",
   "execution_count": 1,
   "metadata": {},
   "outputs": [],
   "source": [
    "import pandas as pd\n",
    "import numpy as np\n",
    "import matplotlib.pyplot as plt\n",
    "import time\n",
    "import seaborn as sns\n",
    "import scipy\n",
    "from scipy.stats import norm\n",
    "from scipy.optimize import minimize\n",
    "\n",
    "\n",
    "from datetime import datetime\n",
    "import os\n",
    "\n",
    "#pd.set_option('display.max_columns', None)\n",
    "pd.reset_option('^display.', silent=True)\n"
   ]
  },
  {
   "cell_type": "markdown",
   "metadata": {},
   "source": [
    "#### Defining Functions"
   ]
  },
  {
   "cell_type": "code",
   "execution_count": 2,
   "metadata": {},
   "outputs": [],
   "source": [
    "def gaussian(data, bins):\n",
    "    \n",
    "    return 1/(data.std()*np.sqrt(2*np.pi))*(np.exp(-(bins - data.mean())**2/(2*data.std()**2)))\n",
    "\n",
    "\n",
    "def black_scholes(S, K, sigma, T, r):\n",
    "\n",
    "    d1 = ((np.log(S/K)+(r+(sigma**2)/2)*T)/(sigma*np.sqrt(T)))\n",
    "    d2 = d1-sigma*np.sqrt(T)\n",
    "    n_d1 = norm.cdf(d1)\n",
    "    n_d2 = norm.cdf(d2)\n",
    "\n",
    "    V = n_d1*S-n_d2*K*np.exp(-r*T)\n",
    "    \n",
    "    return V\n",
    "\n",
    "\n",
    "def bs_delta(S, K, sigma, T, r):\n",
    "\n",
    "    d1 = ((np.log(S/K)+(r+(sigma**2)/2)*T)/(sigma*np.sqrt(T)))\n",
    "    n_d1 = norm.cdf(d1)\n",
    "    \n",
    "    return n_d1\n",
    "\n",
    "\n",
    "def bs_gamma(S, K, sigma, T, r):\n",
    "\n",
    "    d1 = ((np.log(S/K)+(r+(sigma**2)/2)*T)/(sigma*np.sqrt(T)))\n",
    "    \n",
    "    return norm.pdf(d1)/(S*sigma*np.sqrt(T))\n",
    "\n",
    "\n",
    "def bs_vega(S, K, sigma, T, r):\n",
    "\n",
    "    d1 = ((np.log(S/K)+(r+(sigma**2)/2)*T)/(sigma*np.sqrt(T)))\n",
    "    \n",
    "    return S*norm.pdf(d1)*np.sqrt(T)\n",
    "\n",
    "\n",
    "def bs_theta(S, K, sigma, T, r):\n",
    "\n",
    "    d1 = ((np.log(S/K)+(r+(sigma**2)/2)*T)/(sigma*np.sqrt(T)))\n",
    "    d2 = d1-sigma*np.sqrt(T)\n",
    "    n_d2 = norm.cdf(d2)\n",
    "\n",
    "    theta = -S*norm.pdf(d1)*sigma/(2*np.sqrt(T))\n",
    "    theta -= r*K*np.exp(-r*T)*n_d2\n",
    "\n",
    "    return theta\n",
    "\n",
    "def bs_rho(S, K, sigma, T, r):\n",
    "\n",
    "    d1 = ((np.log(S/K)+(r+(sigma**2)/2)*T)/(sigma*np.sqrt(T)))\n",
    "    d2 = d1-sigma*np.sqrt(T)\n",
    "    n_d2 = norm.cdf(d2)\n",
    "\n",
    "    return K*T*np.exp(-r*T)*n_d2\n",
    "\n",
    "\n",
    "def euler_maruyama(s0, expiry_T, sigma, return_rate, n_periods, n_simulations):\n",
    "\n",
    "    prices = np.zeros((n_periods, n_simulations))\n",
    "    prices[0] = s0\n",
    "\n",
    "    for i in range(1, n_periods):\n",
    "\n",
    "        prices[i] = prices[i-1]*(1 + return_rate*expiry_T/n_periods + sigma*np.sqrt(expiry_T/n_periods)*np.random.normal(loc=0.0, scale=1.0, size=n_simulations))\n",
    "\n",
    "    prices = pd.DataFrame(prices)\n",
    "    prices.index.name = 'period'\n",
    "    prices.index.columns = 'simulation'\n",
    "\n",
    "    return prices\n",
    "\n",
    "\n",
    "def milstein(s0, expiry_T, sigma, return_rate, n_periods, n_simulations):\n",
    "\n",
    "    prices = np.zeros((n_simulations, n_periods+1))\n",
    "    prices[:,0] = s0\n",
    "\n",
    "    A_matrix = np.sqrt(expiry_T/n_periods)*np.tri(n_periods,n_periods)\n",
    "    z = np.random.normal(loc=0.0, scale=1.0, size=(n_periods,n_simulations))\n",
    "\n",
    "    wiener_matrix = np.matmul(A_matrix, z)\n",
    "    wiener_matrix = np.transpose(wiener_matrix)\n",
    "\n",
    "    prices[:,1:] = s0*np.exp((return_rate-(sigma**2)/2)*np.linspace(start=expiry_T/n_periods,stop=expiry_T,num=n_periods)+sigma*wiener_matrix)\n",
    "\n",
    "    prices = pd.DataFrame(np.transpose(prices))\n",
    "    prices.index.name = 'period'\n",
    "    prices.index.columns = 'simulation'\n",
    "\n",
    "    return prices\n",
    "\n",
    "def antithetic_variables(s0, expiry_T, sigma, return_rate, n_periods, n_simulations):\n",
    "\n",
    "    prices_plus = np.zeros((n_simulations, n_periods+1))\n",
    "    prices_plus[:,0] = s0\n",
    "\n",
    "    prices_minus = np.zeros((n_simulations, n_periods+1))\n",
    "    prices_minus[:,0] = s0\n",
    "\n",
    "    A_matrix = np.sqrt(expiry_T/n_periods)*np.tri(n_periods,n_periods)\n",
    "    z = np.random.normal(loc=0.0, scale=1.0, size=(n_periods,n_simulations))\n",
    "    z_minus = -z\n",
    "\n",
    "    wiener_matrix = np.matmul(A_matrix, z)\n",
    "    wiener_matrix = np.transpose(wiener_matrix)\n",
    "\n",
    "    wiener_matrix_minus = np.matmul(A_matrix, z_minus)\n",
    "    wiener_matrix_minus = np.transpose(wiener_matrix_minus)\n",
    "\n",
    "    prices_plus[:,1:] = s0*np.exp((return_rate-(sigma**2)/2)*np.linspace(start=expiry_T/n_periods,stop=expiry_T,num=n_periods)+sigma*wiener_matrix)\n",
    "    prices_minus[:,1:] = s0*np.exp((return_rate-(sigma**2)/2)*np.linspace(start=expiry_T/n_periods,stop=expiry_T,num=n_periods)+sigma*wiener_matrix_minus)\n",
    "\n",
    "    prices_plus = pd.DataFrame(np.transpose(prices_plus))\n",
    "    prices_minus = pd.DataFrame(np.transpose(prices_minus))\n",
    "    \n",
    "    prices_plus.index.name = 'period'\n",
    "    prices_plus.index.columns = 'simulation'\n",
    "\n",
    "    prices_minus.index.name = 'period'\n",
    "    prices_minus.index.columns = 'simulation'\n",
    "\n",
    "    return prices_plus, prices_minus\n",
    "\n",
    "\n",
    "def fill_bridge_array(a, b, delta_t, z=None):\n",
    "    \n",
    "    if type(z) == type(None):\n",
    "        return (a+b)/2 + np.sqrt((delta_t/4))*np.random.normal(loc=0.0, scale=1.0, size=1)[0]\n",
    "    else:\n",
    "        return (a+b)/2 + np.sqrt((delta_t/4))*z\n",
    "\n",
    "def sobol_prices(s0, expiry_T, sigma, return_rate, n_periods, n_simulations):\n",
    "\n",
    "    n = int(np.log2(n_periods))\n",
    "\n",
    "    compounding_array = np.exp((return_rate-(sigma**2)/2)*np.linspace(start=expiry_T/n_periods,stop=expiry_T,num=n_periods))\n",
    "\n",
    "    W_t = np.empty((n_periods+1, n_simulations))\n",
    "    W_t[:] = np.nan\n",
    "    W_t[0] = 0.0\n",
    "\n",
    "    prices = np.zeros((n_periods+1, n_simulations))\n",
    "    prices = pd.DataFrame(prices, index=np.arange(0, 1+1/(2**n), 1/(2**n)))\n",
    "    prices.iloc[0] = s0\n",
    "\n",
    "    sampler = scipy.stats.qmc.Sobol(d=n_periods, scramble=True)\n",
    "    sample = sampler.random_base2(int(np.log2(n_simulations)))\n",
    "    sample = np.transpose(sample)\n",
    "    norm_sample = norm.ppf(sample)\n",
    "\n",
    "    k = 0\n",
    "    W_t[-1,:] = norm_sample[k,:]\n",
    "\n",
    "    df_wt = pd.DataFrame(W_t, index=np.arange(0, 1+1/(2**n), 1/(2**n)))\n",
    "\n",
    "    for i in range(1, n+1):\n",
    "        \n",
    "        for j in ((1/2)**i)*np.arange(1, 2**(i)+1, 2):\n",
    "            k+=1\n",
    "            df_wt.loc[j] = fill_bridge_array(a=df_wt.loc[j-(1/2)**i], b=df_wt.loc[j+(1/2)**i], delta_t=(1/2)**(i-1), z=norm_sample[k,:])\n",
    "            \n",
    "    prices.iloc[1:] = s0*(np.exp(sigma*df_wt.iloc[1:,].values).T*compounding_array).T\n",
    "    prices.index = prices.index*expiry_T\n",
    "\n",
    "    prices.index.name = 'period'\n",
    "    prices.index.columns = 'simulation'\n",
    "\n",
    "    return prices\n",
    "\n",
    "\n",
    "def fill_bridge(a, b, delta_t, z=None):\n",
    "\n",
    "    \n",
    "    if z == None:\n",
    "        return (a+b)/2 + np.sqrt((delta_t/4))*np.random.normal(loc=0.0, scale=1.0, size=1)[0]\n",
    "    else:\n",
    "        return (a+b)/2 + np.sqrt((delta_t/4))*z\n",
    "    \n",
    "\n",
    "def brownian_bridge(w0, w1, n):\n",
    "\n",
    "    df_wt = pd.DataFrame(columns=['W_t'], index=np.arange(0, 1+1/(2**n), 1/(2**n)))\n",
    "\n",
    "    df_wt.iloc[0] = w0\n",
    "    df_wt.iloc[-1] = w1\n",
    "\n",
    "    for i in range(1, n+1):\n",
    "        \n",
    "        for j in ((1/2)**i)*np.arange(1, 2**(i)+1, 2):\n",
    "\n",
    "            df_wt.loc[j] = fill_bridge(a=df_wt.loc[j-(1/2)**i], b=df_wt.loc[j+(1/2)**i], delta_t=(1/2)**(i-1))\n",
    "\n",
    "    return df_wt\n",
    "\n",
    "\n",
    "def call_price(s0, strike_E, expiry_T, sigma, risk_free, n_periods, n_simulations):\n",
    "\n",
    "    prices_path = euler_maruyama(s0, expiry_T, sigma, risk_free, n_periods, n_simulations)\n",
    "    payoff = np.maximum(prices_path.iloc[-1]-strike_E,0)\n",
    "    \n",
    "    return [np.exp(-risk_free*(expiry_T))*np.mean(payoff),\n",
    "            pd.Series(payoff*np.exp(-risk_free*(expiry_T)))]\n",
    "\n",
    "\n",
    "def call_price_milstein(s0, strike_E, expiry_T, sigma, risk_free, n_periods, n_simulations):\n",
    "\n",
    "    prices_path =  milstein(s0, expiry_T, sigma, risk_free, n_periods, n_simulations)\n",
    "    payoff = np.maximum(prices_path.iloc[-1]-strike_E,0)\n",
    "    \n",
    "    return [np.exp(-risk_free*(expiry_T))*np.mean(payoff),\n",
    "            pd.Series(payoff*np.exp(-risk_free*(expiry_T)))]\n",
    "\n",
    "\n",
    "def call_price_anti(s0, strike_E, expiry_T, sigma, risk_free, n_periods, n_simulations):\n",
    "\n",
    "    prices_plus, prices_minus = antithetic_variables(s0, expiry_T, sigma, risk_free, n_periods, n_simulations)\n",
    "    payoff = .5*(np.maximum(prices_plus.iloc[-1]-strike_E,0)+np.maximum(prices_minus.iloc[-1]-strike_E,0))\n",
    "    \n",
    "    return [np.exp(-risk_free*(expiry_T))*np.mean(payoff),\n",
    "            pd.Series(payoff*np.exp(-risk_free*(expiry_T)))]\n",
    "\n",
    "\n",
    "def call_price_sobol(s0, strike_E, expiry_T, sigma, risk_free, n_periods, n_simulations):\n",
    "\n",
    "    prices_path = sobol_prices(s0, expiry_T, sigma, risk_free, n_periods, n_simulations)\n",
    "    payoff = np.maximum(prices_path.iloc[-1]-strike_E,0)\n",
    "\n",
    "    return [np.exp(-risk_free*(expiry_T))*np.mean(payoff),\n",
    "            payoff*np.exp(-risk_free*(expiry_T))]"
   ]
  },
  {
   "cell_type": "markdown",
   "metadata": {},
   "source": [
    "### Part I: Volatility Arb with improved GBM and Monte-Carlo ###"
   ]
  },
  {
   "cell_type": "markdown",
   "metadata": {},
   "source": [
    "1. Consider improvements to GBM asset evolution (Euler-Maruyana/Milstein schemes). <br> Optionally, can consider modelling asset with jumps, eg, Merton jump diffusion, without going into stochastic volatility, eg Heston-Nandi. <br> Variance Gamma is also relevant but suited for single-name assets with extreme movements.\n",
    " - consider MC variance reduction techniques, such as antithetic variates; <br>\n",
    " - best practice is low discrepancy sequences, eg Sobol with the Brownian bridge.\n"
   ]
  },
  {
   "cell_type": "markdown",
   "metadata": {},
   "source": [
    "#### Defining Constants"
   ]
  },
  {
   "cell_type": "code",
   "execution_count": null,
   "metadata": {},
   "outputs": [],
   "source": [
    "S = 50\n",
    "K = 55\n",
    "sigma = .30\n",
    "r = .1\n",
    "T = 360/360\n",
    "\n",
    "bs_price = black_scholes(S, K, sigma, T, r)\n",
    "\n",
    "df_mc_errors = pd.DataFrame(columns=['Euler_Maruyama', 'Milstein', 'Antithetic', 'Sobol_numbers'])\n",
    "\n",
    "n_simulations = 2**18\n",
    "n_periods = 2**9\n",
    "\n",
    "df_mc_errors['Euler_Maruyama'] = bs_price - pd.Series(call_price(s0=S, strike_E=K, expiry_T=T, sigma=sigma, risk_free=r, n_periods=n_periods, n_simulations=int(n_simulations))[1]).expanding().mean()\n",
    "df_mc_errors['Milstein'] = bs_price - pd.Series(call_price_milstein(s0=S, strike_E=K, expiry_T=T, sigma=sigma, risk_free=r, n_periods=n_periods, n_simulations=int(n_simulations))[1]).expanding().mean()\n",
    "df_mc_errors['Antithetic'] = bs_price - pd.Series(call_price_anti(s0=S, strike_E=K, expiry_T=T, sigma=sigma, risk_free=r, n_periods=n_periods, n_simulations=int(n_simulations))[1]).expanding().mean()\n",
    "df_mc_errors['Sobol_numbers'] = bs_price - call_price_sobol(s0=S, strike_E=K, expiry_T=T, sigma=sigma, risk_free=r, n_periods=n_periods, n_simulations=int(n_simulations))[1].expanding().mean()\n",
    "\n",
    "fig, ax = plt.subplots(figsize=(25, 17))\n",
    "\n",
    "sns.lineplot(df_mc_errors.loc[1024:], \n",
    "             ax=ax)\n",
    "\n",
    "plt.axhline(y=0.0, color='black', linestyle='--')\n",
    "ax.set_xscale('log', base=2)\n",
    "plt.show()\n",
    "\n",
    "print(df_mc_errors.iloc[-1])\n"
   ]
  },
  {
   "cell_type": "markdown",
   "metadata": {},
   "source": [
    "2. Under the condition of known future realised volatility $ V_{a} > V_{i} $ , analytically and with Monte-Carlo confirm the items below. <br> Report with both, complete mathematical workings to fold $ P\\&L_{t} $ and simulations of $ P\\&L_{t} $.\n",
    " - confirm actual volatility hedging leads to the known total $ P\\&L $;\n",
    " - confirm and demonstrate implied volatility hedging leads to uncertain total, path-dependent $ P\\&L $, and characterise on which parameters/Greeks it depends."
   ]
  },
  {
   "cell_type": "markdown",
   "metadata": {},
   "source": [
    "3. Think of additional analysis: consider how $ P\\&L $ decomposes in terms of Greeks. <br> What is\n",
    "the impact of time-dependent Gamma $ \\Gamma_{t} $? What about $ r^2\n",
    "− \\sigma_{imp}\\delta t $? <br> Consider findings\n",
    "from Part II MVD modelling, what are the implications of hedging with the smaller delta?"
   ]
  },
  {
   "cell_type": "code",
   "execution_count": null,
   "metadata": {},
   "outputs": [],
   "source": [
    "# def euler_maruyama_brownian_bridge(s0, expiry_T, sigma, return_rate, n_periods, n_simulations):\n",
    "\n",
    "#     n = int(np.log2(n_periods))\n",
    "#     prices = np.zeros((n_simulations, n_periods))\n",
    "#     prices[0] = s0\n",
    "\n",
    "#     for i in range(1, n_simulations):\n",
    "\n",
    "#         prices[i] = prices[i-1]*(1 + return_rate*expiry_T/n_periods + sigma*np.sqrt(expiry_T/n_periods)*brownian_bridge(w0=0, w1=0.0, n=n).W_t.diff().iloc[1:].values)\n",
    "\n",
    "#     prices = pd.DataFrame(prices)\n",
    "#     prices.index.name = 'period'\n",
    "#     prices.index.columns = 'simulation'\n",
    "#     prices = prices\n",
    "\n",
    "#     return prices"
   ]
  },
  {
   "cell_type": "code",
   "execution_count": null,
   "metadata": {},
   "outputs": [],
   "source": [
    "data = sobol_prices(s0=S, expiry_T=1, sigma=sigma, return_rate=r, n_periods=2**9, n_simulations=2**16).iloc[-1]\n",
    "\n"
   ]
  },
  {
   "cell_type": "code",
   "execution_count": null,
   "metadata": {},
   "outputs": [],
   "source": [
    "n = 2**19\n",
    "r = 0.1\n",
    "sigma = .3\n",
    "\n",
    "data = milstein(s0=S, expiry_T=1, sigma=sigma, return_rate=r, n_periods=1, n_simulations=n).iloc[-1]\n",
    "\n",
    "fx = [np.exp(-(x**2)/2)/np.sqrt(2*np.pi) for x in np.linspace(-3,3,n)]\n",
    "\n",
    "x_lognorm = S*np.exp(r-(sigma*sigma)/2)*np.exp(np.linspace(-3,3,n)*sigma)\n",
    "y_lognorm = fx\n",
    "y_lognorm = y_lognorm/sum(np.diff(x_lognorm)*y_lognorm[1:])\n",
    "\n",
    "fig, ax = plt.subplots()\n",
    "sns.histplot(data,\n",
    "             stat='density',\n",
    "             bins=1000,\n",
    "             ax=ax)\n",
    "\n",
    "sns.lineplot(ax=ax,\n",
    "             x=x_lognorm,\n",
    "             y=y_lognorm,\n",
    "             color='red')"
   ]
  },
  {
   "cell_type": "code",
   "execution_count": null,
   "metadata": {},
   "outputs": [],
   "source": []
  },
  {
   "cell_type": "markdown",
   "metadata": {},
   "source": [
    "2. Under the condition of known future realised volatility $ V_{a} > V_{i} $ , analytically and with Monte-Carlo confirm the items below. <br> Report with both, complete mathematical workings to fold $ P\\&L_{t} $ and simulations of $ P\\&L_{t} $.\n",
    " - confirm actual volatility hedging leads to the known total $ P\\&L $;\n",
    " - confirm and demonstrate implied volatility hedging leads to uncertain total, path-dependent $ P\\&L $, and characterise on which parameters/Greeks it depends."
   ]
  },
  {
   "cell_type": "code",
   "execution_count": null,
   "metadata": {},
   "outputs": [],
   "source": [
    "def delta_hedged_ptf(stock_path, K, T, sigma, r):\n",
    "\n",
    "    df_hedged_ptf = pd.DataFrame(columns=['Cash_Position', 'Cash_Rebalance', 'Daily_Interest', '#_Stocks', 'Ptf_Stock', 'Ptf_Total'],\n",
    "                                 index=range(0,len(stock_path)))\n",
    "    \n",
    "    \n",
    "    s0 = stock_path[0]\n",
    "    n_periods = len(stock_path)\n",
    "    \n",
    "    df_hedged_ptf['Cash_Position'] = [0.0]*len(df_hedged_ptf)\n",
    "    df_hedged_ptf['Cash_Rebalance'] = [0.0]*len(df_hedged_ptf)\n",
    "    df_hedged_ptf['Daily_Interest'] = [0.0]*len(df_hedged_ptf)\n",
    "\n",
    "    df_hedged_ptf['#_Stocks'] = [bs_delta(S=s, K=K, sigma=sigma, T=T*(1-t/n_periods), r=r) for t,s in zip(df_hedged_ptf.index, stock_path)]\n",
    "    df_hedged_ptf.loc[0, 'Cash_Position'] = -df_hedged_ptf.loc[0, '#_Stocks']*s0\n",
    "\n",
    "    df_hedged_ptf['Ptf_Stock'] = df_hedged_ptf['#_Stocks']*stock_path\n",
    "    df_hedged_ptf['Cash_Rebalance'] = -df_hedged_ptf['#_Stocks'].diff().fillna(0)*stock_path\n",
    "\n",
    "    for i in df_hedged_ptf.index[1:]:\n",
    "\n",
    "        df_hedged_ptf.loc[i, 'Daily_Interest'] = df_hedged_ptf.loc[i-1, 'Cash_Position']*r*T/n_periods\n",
    "        df_hedged_ptf.loc[i, 'Cash_Position'] = df_hedged_ptf.loc[i-1, 'Cash_Position'] + df_hedged_ptf.loc[i, 'Cash_Rebalance'] + df_hedged_ptf.loc[i, 'Daily_Interest']\n",
    "\n",
    "    df_hedged_ptf['Ptf_Total'] = df_hedged_ptf['Cash_Position'] + df_hedged_ptf['Ptf_Stock']\n",
    "\n",
    "    return df_hedged_ptf\n",
    "\n",
    "\n",
    "def call_ptf(stock_path, K, T,sigma, r):\n",
    "\n",
    "    s0 = stock_path[0]\n",
    "    n_periods = len(stock_path)\n",
    "\n",
    "    V_i = black_scholes(S=s0, K=K, sigma=sigma, T=T, r=r)\n",
    "\n",
    "    df_call_ptf = pd.DataFrame(columns=['Call_Price', 'Call_Carry', 'Call_PnL'],\n",
    "                               index=range(0,len(stock_path)))\n",
    "\n",
    "    df_call_ptf['Call_Price'] = [black_scholes(S=s, K=K, sigma=sigma, T=T*(1-t/n_periods), r=r) for t,s in zip(df_call_ptf.index, stock_path)]\n",
    "    df_call_ptf['Call_Carry'] = [V_i*(1-np.exp(r*T*t/n_periods)) for t in df_call_ptf.index]\n",
    "    df_call_ptf['Call_PnL'] = df_call_ptf['Call_Price'] - df_call_ptf.loc[0,'Call_Price'] + df_call_ptf['Call_Carry']\n",
    "    \n",
    "    df_call_ptf['Call_Delta'] = [bs_delta(S=s, K=K, sigma=sigma, T=T*(1-t/n_periods), r=r) for t,s in zip(df_call_ptf.index, stock_path)]\n",
    "    df_call_ptf['Call_Gamma'] = [bs_gamma(S=s, K=K, sigma=sigma, T=T*(1-t/n_periods), r=r) for t,s in zip(df_call_ptf.index, stock_path)]\n",
    "    df_call_ptf['Call_Theta'] = [bs_theta(S=s, K=K, sigma=sigma, T=T*(1-t/n_periods), r=r) for t,s in zip(df_call_ptf.index, stock_path)]\n",
    "    \n",
    "    df_call_ptf['Call_Rho'] = [bs_rho(S=s, K=K, sigma=sigma, T=T*(1-t/n_periods), r=r) for t,s in zip(df_call_ptf.index, stock_path)]\n",
    "    df_call_ptf['Call_Vega'] = [bs_vega(S=s, K=K, sigma=sigma, T=T*(1-t/n_periods), r=r) for t,s in zip(df_call_ptf.index, stock_path)]\n",
    "\n",
    "    df_call_ptf['PnL_Delta'] = (df_call_ptf['Call_Delta'].shift(1)*stock_path.diff()).cumsum()\n",
    "    df_call_ptf['PnL_Gamma'] = (df_call_ptf['Call_Gamma'].shift(1)*np.square(stock_path.diff())).cumsum()/2\n",
    "    df_call_ptf['PnL_Theta'] = (df_call_ptf['Call_Theta'].shift(1)*T/n_periods).cumsum()\n",
    "    df_call_ptf['PnL_Carry'] = df_call_ptf['Call_Carry']\n",
    "\n",
    "    df_call_ptf['PnL_Greeks'] = df_call_ptf[['PnL_Delta','PnL_Gamma','PnL_Theta','PnL_Carry']].sum(axis=1)\n",
    "\n",
    "    return df_call_ptf\n",
    "\n",
    "    "
   ]
  },
  {
   "cell_type": "code",
   "execution_count": null,
   "metadata": {},
   "outputs": [],
   "source": [
    "S = 50\n",
    "K = 55\n",
    "sigma_i = .30\n",
    "sigma_a = .40\n",
    "\n",
    "r = .1\n",
    "T = 1 #in years\n",
    "\n",
    "V_i = black_scholes(S, K, sigma_i, T, r)\n",
    "V_a = black_scholes(S, K, sigma_a, T, r)\n",
    "\n",
    "print(V_a-V_i)"
   ]
  },
  {
   "cell_type": "code",
   "execution_count": null,
   "metadata": {},
   "outputs": [],
   "source": [
    "T = 1.0\n",
    "\n",
    "V_i = black_scholes(S, K, sigma_i, T, r)\n",
    "V_a = black_scholes(S, K, sigma_a, T, r)\n",
    "\n",
    "n_periods = 10000\n",
    "\n",
    "df_price_paths = euler_maruyama(s0=S, expiry_T=T, sigma=sigma_a, return_rate=r, n_periods=n_periods, n_simulations=10)\n",
    "\n",
    "for i in df_price_paths.columns:\n",
    "\n",
    "    stock_path = df_price_paths.loc[:, i]\n",
    "\n",
    "    df_call = call_ptf(stock_path = stock_path, K=K, T=T,sigma=sigma_i, r=r).Call_PnL\n",
    "    df_ptf = delta_hedged_ptf(stock_path = stock_path, K=K,T=T, sigma=sigma_a, r=r).Ptf_Total\n",
    "\n",
    "    plt.plot(df_call - df_ptf)\n",
    "\n",
    "plt.axhline(y=np.exp(r*T)*(V_a-V_i), color='black', linestyle='--')\n"
   ]
  },
  {
   "cell_type": "code",
   "execution_count": null,
   "metadata": {},
   "outputs": [],
   "source": [
    "T = 1.0\n",
    "\n",
    "V_i = black_scholes(S, K, sigma_i, T, r)\n",
    "V_a = black_scholes(S, K, sigma_a, T, r)\n",
    "\n",
    "n_periods = 10000\n",
    "\n",
    "df_price_paths = euler_maruyama(s0=S, expiry_T=T, sigma=sigma_a, return_rate=r, n_periods=n_periods, n_simulations=10)\n",
    "\n",
    "for i in df_price_paths.columns:\n",
    "\n",
    "    stock_path = df_price_paths.loc[:, i]\n",
    "\n",
    "    df_call = call_ptf(stock_path = stock_path, K=K, T=T,sigma=sigma_i, r=r).Call_PnL\n",
    "    df_ptf = delta_hedged_ptf(stock_path = stock_path, K=K,T=T, sigma=sigma_i, r=r).Ptf_Total\n",
    "\n",
    "    plt.plot(df_call - df_ptf)\n",
    "\n",
    "plt.axhline(y=np.exp(r*T)*(V_a-V_i), color='black', linestyle='--')\n"
   ]
  },
  {
   "cell_type": "code",
   "execution_count": null,
   "metadata": {},
   "outputs": [],
   "source": [
    "# n_periods = 2**15\n",
    "# T = 1\n",
    "\n",
    "# path_foo = euler_maruyama(s0=S, expiry_T=T, sigma=sigma_a, return_rate=r, n_periods=n_periods, n_simulations=1).iloc[:,0]\n",
    "# path_foo = path_foo.to_frame(name='Stock_Price')\n",
    "\n",
    "# #path_foo = path_foo.to_frame(name='Stock_Price')\n",
    "\n",
    "# path_foo['Call_Price'] = [black_scholes(S=s, K=K, sigma=sigma_i, T=T*(1-t/n_periods), r=r) for t,s in zip(path_foo.index, path_foo.Stock_Price)]\n",
    "# path_foo['Call_Delta_i'] = [bs_delta(S=s, K=K, sigma=sigma_i, T=T*(1-t/n_periods), r=r) for t,s in zip(path_foo.index, path_foo.Stock_Price)]\n",
    "# path_foo['Call_Delta_a'] = [bs_delta(S=s, K=K, sigma=sigma_a, T=T*(1-t/n_periods), r=r) for t,s in zip(path_foo.index, path_foo.Stock_Price)]\n",
    "\n",
    "# path_foo['Call_Carry'] = [-V_i*r*t*T/n_periods for t in path_foo.index]\n",
    "# path_foo['Call_PnL'] = path_foo['Call_Price'] - path_foo.loc[0,'Call_Price'] + path_foo['Call_Carry']\n",
    "\n",
    "# path_foo['Cash_Position'] = [0.0]*len(path_foo)\n",
    "# path_foo['Cash_Rebalance'] = [0.0]*len(path_foo)\n",
    "# path_foo['Daily_Interest'] = [0.0]*len(path_foo)\n",
    "\n",
    "# path_foo['#_Stocks'] = [bs_delta(S=s, K=K, sigma=sigma_a, T=T*(1-t/n_periods), r=r) for t,s in zip(path_foo.index, path_foo.Stock_Price)]\n",
    "# path_foo.loc[0, 'Cash_Position'] = -path_foo.loc[0, 'Call_Delta_a']*path_foo.loc[0, 'Stock_Price']\n",
    "\n",
    "# path_foo['Ptf_Stock'] = path_foo['#_Stocks']*path_foo['Stock_Price']\n",
    "# path_foo['Cash_Rebalance'] = -path_foo['#_Stocks'].diff().fillna(0)*path_foo['Stock_Price']\n",
    "\n",
    "# for i in path_foo.index[1:]:\n",
    "\n",
    "#     path_foo.loc[i, 'Daily_Interest'] = path_foo.loc[i-1, 'Cash_Position']*r*T/n_periods\n",
    "#     path_foo.loc[i, 'Cash_Position'] = path_foo.loc[i-1, 'Cash_Position'] + path_foo.loc[i, 'Cash_Rebalance'] + path_foo.loc[i, 'Daily_Interest']\n",
    "\n",
    "# path_foo['Ptf_Total'] = path_foo['Cash_Position'] + path_foo['Ptf_Stock']\n",
    "\n",
    "# plt.plot(path_foo['Call_PnL'] - path_foo['Ptf_Total'])"
   ]
  },
  {
   "cell_type": "markdown",
   "metadata": {},
   "source": [
    "3. Think of additional analysis: consider how $ P\\&L $ decomposes in terms of Greeks. <br> What is\\\n",
    "the impact of time-dependent Gamma $ \\Gamma_{t} $? <br> What about $ r^2\n",
    "− \\sigma_{imp}\\delta t $? <br> Consider findings\n",
    "from Part II MVD modelling, what are the implications of hedging with the smaller delta?"
   ]
  },
  {
   "cell_type": "markdown",
   "metadata": {},
   "source": [
    "#### $Total P\\&L \\approx \\sum_{t}^{T} \\frac{1}{2} \\Gamma_{t} S^{2}_{t}\\left [ r^2_{t} -\\sigma_{t,imp}^2 \\Delta t\\right ] $"
   ]
  },
  {
   "cell_type": "code",
   "execution_count": null,
   "metadata": {},
   "outputs": [],
   "source": [
    "stock_path = df_price_paths.loc[:, i]\n",
    "\n",
    "df_call = call_ptf(stock_path = stock_path, K=K, T=T,sigma=sigma_i, r=r)\n",
    "df_ptf = -delta_hedged_ptf(stock_path = stock_path, K=K,T=T, sigma=sigma_a, r=r)\n",
    "\n",
    "df_total = df_call.merge(df_ptf, right_index=True, left_index=True)\n",
    "\n",
    "df_total['PnL_Total'] = df_total[['Call_PnL','Ptf_Total']].sum(axis=1)\n",
    "df_total['PnL_Delta_Total'] = df_total.PnL_Delta + df_total.Ptf_Stock.diff(1).cumsum() + df_total.Cash_Rebalance.cumsum()\n",
    "df_total['Total_Carry'] = df_total['PnL_Carry'] + df_total['Daily_Interest'].cumsum()\n",
    "\n",
    "\n",
    "df_total[['PnL_Total','PnL_Gamma','PnL_Delta_Total','PnL_Theta','Total_Carry']].plot()\n",
    "\n",
    "for col in ['PnL_Total','PnL_Gamma','PnL_Delta_Total','PnL_Theta','Total_Carry']:\n",
    "    \n",
    "    plt.annotate('%.2f' % df_total[col].iloc[-1], xy=(n_periods, df_total[col].iloc[-1]))\n",
    "\n",
    "plt.show()"
   ]
  },
  {
   "cell_type": "code",
   "execution_count": null,
   "metadata": {},
   "outputs": [],
   "source": []
  },
  {
   "cell_type": "markdown",
   "metadata": {},
   "source": [
    "## Part II: Minimum Variance Delta"
   ]
  },
  {
   "cell_type": "markdown",
   "metadata": {},
   "source": [
    "1. begin with sorting your IV data – or each trading day, you will need BS option price as\n",
    "implied vol percentage, delta, and vega: ($ V_{t} $,$ \\delta_{bs} $,$ \\nu_{bs} $). <br> \n",
    "The term structure for option expiry $ 1M, 3M, 6M, 9M, 12M $, weekly expiries not necessary. <br> \n",
    "Key choice to make here, if\n",
    "you are going to study Delta for out of the money call strikes, in addition to about ATM\n",
    "buckets $ 0.45 < \\delta_{bs} <0.55 $ – each strike means a separate a,b,c history for each expiry."
   ]
  },
  {
   "cell_type": "markdown",
   "metadata": {},
   "source": [
    "2. compute your dependent variable and run the fitting on $ \\delta_{bs} $,$ \\delta^2_{bs} $. <br>Dependent side based\n",
    "on daily option price changes $ \\Delta V_{t} $, and you will need $( \\Delta S_{t} , S_{t}) $ as well as Greeks noted\n",
    "above. <br> The exact data columns will depend on how you organise regression or do SLSQP."
   ]
  },
  {
   "cell_type": "code",
   "execution_count": 3,
   "metadata": {},
   "outputs": [],
   "source": [
    "dict_dtpyes = {'[QUOTE_UNIXTIME]': int,\n",
    "               ' [QUOTE_READTIME]' : object,\n",
    "               ' [QUOTE_DATE]': str,\n",
    "               ' [QUOTE_TIME_HOURS]': float, \n",
    "               ' [UNDERLYING_LAST]': float,\n",
    "               ' [EXPIRE_DATE]': object,\n",
    "               ' [EXPIRE_UNIX]': int,\n",
    "               ' [DTE]': float,\n",
    "               ' [C_DELTA]': object,\n",
    "               ' [C_GAMMA]': object, \n",
    "               ' [C_VEGA]': object,\n",
    "               ' [C_THETA]': object, \n",
    "               ' [C_RHO]': object, \n",
    "               ' [C_IV]': object, \n",
    "               ' [C_VOLUME]':object, \n",
    "               ' [C_LAST]': object,\n",
    "               ' [C_SIZE]': object,\n",
    "               ' [C_BID]': object, \n",
    "               ' [C_ASK]':object, \n",
    "               ' [STRIKE]': object, \n",
    "               ' [P_BID]':object,\n",
    "               ' [P_ASK]':object,  \n",
    "               ' [P_SIZE]':object, \n",
    "               ' [P_LAST]':object,\n",
    "               ' [P_DELTA]': object,\n",
    "               ' [P_GAMMA]': object,\n",
    "               ' [P_VEGA]': object, \n",
    "               ' [P_THETA]': object, \n",
    "               ' [P_RHO]':object,\n",
    "               ' [P_IV]':object,\n",
    "               ' [P_VOLUME]': object,\n",
    "               ' [STRIKE_DISTANCE]': float,\n",
    "               ' [STRIKE_DISTANCE_PCT]': float}\n",
    "\n",
    "csv_files = sorted(os.listdir('spx_eod_data'))\n",
    "\n",
    "df_option_data = pd.DataFrame()\n",
    "\n",
    "for file in csv_files:\n",
    "\n",
    "    df_option_data = pd.concat([df_option_data,\n",
    "                                pd.read_csv(filepath_or_buffer=f'spx_eod_data/{file}', \n",
    "                                            dtype=dict_dtpyes)\n",
    "                                ])\n",
    "\n",
    "# df_option_data = pd.read_csv(filepath_or_buffer='spx_eod_data/spx_eod_201001.txt')\n",
    "\n",
    "#Parse Data\n",
    "df_option_data.columns = [x.strip().replace('[','').replace(']','') for x in df_option_data.columns]\n",
    "df_option_data['QUOTE_DATE'] = [datetime.strptime(x.strip(),'%Y-%m-%d') for x in df_option_data.QUOTE_DATE]\n",
    "df_option_data['EXPIRE_DATE'] = [datetime.strptime(x.strip(),'%Y-%m-%d') for x in df_option_data.EXPIRE_DATE]\n",
    "\n",
    "#df_option_data = df_option_data[[not((df_option_data.loc[x]==' ').any()) for x in df_option_data.index]]\n",
    "df_option_data = df_option_data.replace(' ', np.nan)\n",
    "df_option_data = df_option_data[~df_option_data.isna().any(axis=1)]\n",
    "df_option_data = df_option_data.loc[df_option_data.DTE > 14]\n",
    "\n",
    "for col in ['C_DELTA', 'C_GAMMA', 'C_VEGA', 'C_THETA', 'C_RHO', 'C_IV', 'C_VOLUME', 'C_LAST', 'C_BID', 'C_ASK',\n",
    "            'STRIKE', 'P_BID', 'P_ASK', 'P_LAST', 'P_DELTA', 'P_GAMMA', 'P_VEGA', 'P_THETA', 'P_RHO', 'P_IV', 'P_VOLUME', \n",
    "            'STRIKE_DISTANCE', 'STRIKE_DISTANCE_PCT']:\n",
    "    \n",
    "    df_option_data[col] = [float(x) for x in df_option_data[col]]\n",
    "\n",
    "df_option_data['C_MID'] = (df_option_data['C_ASK']+df_option_data['C_BID'])/2\n",
    "df_option_data['P_MID'] = (df_option_data['P_ASK']+df_option_data['P_BID'])/2\n",
    "\n",
    "df_option_data = df_option_data.reset_index(drop=True)"
   ]
  },
  {
   "cell_type": "code",
   "execution_count": 4,
   "metadata": {},
   "outputs": [
    {
     "name": "stderr",
     "output_type": "stream",
     "text": [
      "/var/folders/_r/h1v0kxm14l9gftzvckvrlllr0000gn/T/ipykernel_74250/1444163933.py:8: RuntimeWarning: divide by zero encountered in scalar divide\n",
      "  d1 = ((np.log(S/K)+(r+(sigma**2)/2)*T)/(sigma*np.sqrt(T)))\n"
     ]
    }
   ],
   "source": [
    "df_option_data['C_BS'] = [black_scholes(S=S,K=K,sigma=sigma,T=T/360,r=0) \n",
    "                          for S,K,sigma,T in zip(df_option_data['UNDERLYING_LAST'],\n",
    "                                                 df_option_data['STRIKE'],\n",
    "                                                 df_option_data['C_IV'], \n",
    "                                                 df_option_data['DTE'])]"
   ]
  },
  {
   "cell_type": "code",
   "execution_count": 81,
   "metadata": {},
   "outputs": [],
   "source": [
    "from pandas.tseries.holiday import USFederalHolidayCalendar\n",
    "cal = USFederalHolidayCalendar()\n",
    "holidays = cal.holidays(start=df_option_data.QUOTE_DATE.min(), end=df_option_data.QUOTE_DATE.max())"
   ]
  },
  {
   "cell_type": "code",
   "execution_count": 366,
   "metadata": {},
   "outputs": [],
   "source": [
    "df_calls = df_option_data.set_index(['QUOTE_DATE','EXPIRE_UNIX','STRIKE'])[['UNDERLYING_LAST','DTE', 'C_DELTA', 'C_VEGA', 'C_IV', 'C_LAST','C_MID','C_BS']]\n",
    "df_calls['QUOTE_DATE'] = df_calls.index.get_level_values(0)\n",
    "\n",
    "df_calls = df_calls[(df_calls.C_DELTA < .95)&(df_calls.C_DELTA > .05)]\n",
    "df_calls = df_calls[~df_calls.index.get_level_values(0).isin(holidays)].copy()\n",
    "\n",
    "quote_dates = df_calls.index.get_level_values(0).unique()\n",
    "\n",
    "df_calls_diff = df_calls.loc[quote_dates[0]].merge(\n",
    "    df_calls.loc[quote_dates[1]], \n",
    "    left_index=True, \n",
    "    right_index=True, \n",
    "    suffixes=('_t1','_t0'), \n",
    "    how='inner')\n",
    "\n",
    "\n",
    "for i in range(len(quote_dates[2:])):\n",
    "    df_calls_diff = pd.concat([df_calls_diff,\n",
    "                               df_calls.loc[quote_dates[i+1]].merge(\n",
    "                                   df_calls.loc[quote_dates[i+2]], \n",
    "                                   left_index=True,\n",
    "                                   right_index=True,\n",
    "                                   suffixes=('_t1','_t0'),\n",
    "                                   how='inner')],\n",
    "                     axis=0)\n",
    "    \n",
    "df_calls_diff['delta_price'] = df_calls_diff['C_MID_t0'] - df_calls_diff['C_MID_t1']\n",
    "df_calls_diff['delta_S'] = df_calls_diff['UNDERLYING_LAST_t0'] - df_calls_diff['UNDERLYING_LAST_t1']\n",
    "\n",
    "df_calls_diff['delta_price_perc'] = (df_calls_diff['C_MID_t0'] - df_calls_diff['C_MID_t1'])/df_calls_diff['C_MID_t1']\n",
    "df_calls_diff['delta_S_perc'] = (df_calls_diff['UNDERLYING_LAST_t0'] - df_calls_diff['UNDERLYING_LAST_t1'])/df_calls_diff['UNDERLYING_LAST_t1']\n",
    "\n",
    "df_calls_diff['BS_Delta_Bucket'] = [round(x*10)/10 for x in df_calls_diff.C_DELTA_t1]\n",
    "df_calls_diff['Expiry_Bucket'] = pd.cut(df_calls_diff.DTE_t1,[14, 30, 91, 182, 365, df_calls_diff.DTE_t1.max()],\n",
    "                                        labels=['1M', '3M', '6M', '9M', '12M'])\n",
    "\n",
    "df_calls_diff = df_calls_diff[abs(df_calls_diff.delta_S_perc) > 1e-4].copy()\n",
    "df_calls_diff = df_calls_diff.set_index(['QUOTE_DATE_t1','BS_Delta_Bucket','Expiry_Bucket'])\n",
    "\n",
    "df_calls_diff['y'] = (df_calls_diff['delta_price']/df_calls_diff['delta_S']-df_calls_diff['C_DELTA_t1'])*df_calls_diff['UNDERLYING_LAST_t1']*np.sqrt(df_calls_diff['DTE_t1']/360)/(df_calls_diff['C_VEGA_t1']*100)"
   ]
  },
  {
   "cell_type": "code",
   "execution_count": 369,
   "metadata": {},
   "outputs": [],
   "source": [
    "\n",
    "# Eliminate outlier on y\n",
    "q75, q25 = np.percentile(df_calls_diff.y, [75,25])\n",
    "intr_qr = q75-q25\n",
    "\n",
    "cut_max = q75+(1.5*intr_qr)\n",
    "cut_min = q25-(1.5*intr_qr)\n",
    "\n",
    "df_calls_diff = df_calls_diff[(df_calls_diff['y'] > cut_min) & (df_calls_diff['y'] < cut_max)].copy()\n",
    "\n"
   ]
  },
  {
   "cell_type": "code",
   "execution_count": 368,
   "metadata": {},
   "outputs": [],
   "source": [
    "df_quote_dates = pd.Series(df_calls_diff.index.get_level_values(0).unique())\n",
    "\n",
    "i=len(df_quote_dates)-21*36\n",
    "testing_period = df_quote_dates.loc[i:i+21*36].values"
   ]
  },
  {
   "cell_type": "code",
   "execution_count": 409,
   "metadata": {},
   "outputs": [],
   "source": [
    "import itertools\n",
    "\n",
    "lists = [\n",
    "   df_quote_dates.loc[21*36:].values,\n",
    "   df_calls_diff.index.get_level_values(2).unique().categories\n",
    "   \n",
    "]\n",
    "\n",
    "df_params = pd.DataFrame(columns=['a','b','c'],\n",
    "                         index=pd.MultiIndex.from_tuples(itertools.product(*lists)))\n",
    "\n",
    "df_params.index.names = ['end_testing', 'expiry_bucket']\n",
    "\n",
    "df_params['start_testing'] = df_params.index.get_level_values(0).map(\n",
    "    {end:start for \n",
    "     end,start in \n",
    "     zip(df_quote_dates.loc[21*36:].values, df_quote_dates.loc[:].values)})"
   ]
  },
  {
   "cell_type": "code",
   "execution_count": 415,
   "metadata": {},
   "outputs": [],
   "source": [
    "def quadratic_fit(df_option_prices):\n",
    "\n",
    "    df = df_option_prices.groupby(['Expiry_Bucket','BS_Delta_Bucket'],\n",
    "                                  observed=True).y.mean()\n",
    "\n",
    "    expiry_buckets  = df.index.get_level_values(0).unique()\n",
    "\n",
    "    df_result = pd.DataFrame(index=expiry_buckets,columns=['a', 'b', 'c'])\n",
    "\n",
    "    for expiry in expiry_buckets:\n",
    "\n",
    "        c,b,a = np.polyfit(y=df.loc[expiry],\n",
    "                           x=df.loc[expiry].index,\n",
    "           deg=2)\n",
    "        \n",
    "        df_result.loc[expiry,['a', 'b', 'c']] = [a, b, c]\n",
    "\n",
    "    return df_result\n",
    "\n",
    "\n",
    "for i in range(0, len(df_quote_dates)-21*36):\n",
    "\n",
    "    training_period = df_quote_dates.loc[i:i+21*36].values\n",
    "    testing_period = df_quote_dates.loc[i+21*36:i+21*36+30].values\n",
    "\n",
    "    df_params.loc[training_period[-1], ['a', 'b', 'c']] = quadratic_fit(df_calls_diff.loc[training_period]).values\n",
    "\n",
    "    print(training_period[-1])"
   ]
  },
  {
   "cell_type": "code",
   "execution_count": 558,
   "metadata": {},
   "outputs": [
    {
     "data": {
      "text/plain": [
       "3.024"
      ]
     },
     "execution_count": 558,
     "metadata": {},
     "output_type": "execute_result"
    }
   ],
   "source": [
    "21*36/250"
   ]
  },
  {
   "cell_type": "code",
   "execution_count": 232,
   "metadata": {},
   "outputs": [],
   "source": [
    "import timeit"
   ]
  },
  {
   "cell_type": "code",
   "execution_count": null,
   "metadata": {},
   "outputs": [],
   "source": []
  },
  {
   "cell_type": "code",
   "execution_count": 519,
   "metadata": {},
   "outputs": [
    {
     "data": {
      "image/png": "[encoded data removed]",
      "text/plain": [
       "<Figure size 640x480 with 1 Axes>"
      ]
     },
     "metadata": {},
     "output_type": "display_data"
    }
   ],
   "source": [
    "plt.boxplot(df_option_data['C_MID']-df_option_data['C_LAST'])\n",
    "plt.show()"
   ]
  },
  {
   "cell_type": "code",
   "execution_count": 559,
   "metadata": {},
   "outputs": [
    {
     "data": {
      "text/plain": [
       "<matplotlib.collections.PathCollection at 0x42fcf30b0>"
      ]
     },
     "execution_count": 559,
     "metadata": {},
     "output_type": "execute_result"
    },
    {
     "data": {
      "image/png": "[encoded data removed]",
      "text/plain": [
       "<Figure size 640x480 with 1 Axes>"
      ]
     },
     "metadata": {},
     "output_type": "display_data"
    }
   ],
   "source": [
    "#i=len(df_quote_dates)-21*36\n",
    "i=0\n",
    "training_period = df_quote_dates.loc[i:i+21*36].values\n",
    "\n",
    "plt.scatter(x=df_calls_diff.loc[training_period].xs('3M',level='Expiry_Bucket').xs(.5,level='BS_Delta_Bucket').C_DELTA_t1.to_numpy(),\n",
    "            y=df_calls_diff.loc[training_period].xs('3M',level='Expiry_Bucket').xs(.5,level='BS_Delta_Bucket').y.to_numpy())"
   ]
  },
  {
   "cell_type": "code",
   "execution_count": 443,
   "metadata": {},
   "outputs": [
    {
     "data": {
      "image/png": "[encoded data removed]",
      "text/plain": [
       "<Figure size 640x480 with 1 Axes>"
      ]
     },
     "metadata": {},
     "output_type": "display_data"
    }
   ],
   "source": [
    "plt.boxplot(df_calls_diff.y.values)\n",
    "plt.show()"
   ]
  },
  {
   "cell_type": "code",
   "execution_count": null,
   "metadata": {},
   "outputs": [],
   "source": []
  },
  {
   "cell_type": "code",
   "execution_count": 525,
   "metadata": {},
   "outputs": [
    {
     "data": {
      "image/png": "[encoded data removed]",
      "text/plain": [
       "<Figure size 640x480 with 2 Axes>"
      ]
     },
     "metadata": {},
     "output_type": "display_data"
    }
   ],
   "source": [
    "expiry_bucket = '6M'\n",
    "\n",
    "fig, ax = plt.subplots()\n",
    "\n",
    "ax2 = ax.twinx()\n",
    "\n",
    "ax.plot(df_params.xs(expiry_bucket,level=1).index,\n",
    "         df_params.xs(expiry_bucket,level=1)[['a','b','c']]*[1,-1,1]\n",
    "         )\n",
    "\n",
    "\n",
    "ax2.plot(df_calls_diff.xs('6M', level='Expiry_Bucket').loc[df_params.index.get_level_values(0).min():].groupby('QUOTE_DATE_t1').C_IV_t0.mean().rolling(30).mean(),\n",
    "         label='IV',\n",
    "         color='r')\n",
    "\n",
    "plt.legend(loc='upper left')\n",
    "plt.xticks(rotation=45)\n",
    "plt.show()"
   ]
  },
  {
   "cell_type": "markdown",
   "metadata": {},
   "source": [
    "### Assesing Gains"
   ]
  },
  {
   "cell_type": "code",
   "execution_count": 571,
   "metadata": {},
   "outputs": [],
   "source": [
    "def sse_bs(df_option_prices, expiry_bucket, delta_bucket):\n",
    "\n",
    "    df = (df_option_prices\n",
    "          .xs(delta_bucket,level='BS_Delta_Bucket')\n",
    "          .xs(expiry_bucket, level='Expiry_Bucket'))\n",
    "    \n",
    "    epsilon_bs = df.delta_price - df.C_DELTA_t1*df.delta_S\n",
    "\n",
    "    return sum(epsilon_bs**2)\n",
    "\n",
    "\n",
    "def sse_mv(df_option_prices, df_params, expiry_bucket, delta_bucket):\n",
    "\n",
    "    df = (df_option_prices\n",
    "          .xs(delta_bucket,level='BS_Delta_Bucket')\n",
    "          .xs(expiry_bucket, level='Expiry_Bucket'))\n",
    "    \n",
    "    a,b,c = df_params.loc[expiry_bucket,['a','b','c']]\n",
    "    \n",
    "    epsilon_bs = df.delta_price - df.C_DELTA_t1*df.delta_S\n",
    "    epsilon_mv = epsilon_bs - (((df.C_VEGA_t1*100)*df.delta_S)/(np.sqrt(df.DTE_t1/360)*df.UNDERLYING_LAST_t1))*(a+b*df.C_DELTA_t1 + c*(df.C_DELTA_t1**2))\n",
    "\n",
    "\n",
    "    return sum(epsilon_mv**2)\n",
    "\n",
    "\n",
    "def gain_mv(df_option_prices, df_params, expiry_bucket, delta_bucket):\n",
    "\n",
    "    _sse_bs = sse_bs(df_option_prices, expiry_bucket, delta_bucket)\n",
    "    _sse_mv = sse_mv(df_option_prices, df_params, expiry_bucket, delta_bucket)\n",
    "\n",
    "    return 1-_sse_mv/_sse_bs"
   ]
  },
  {
   "cell_type": "code",
   "execution_count": null,
   "metadata": {},
   "outputs": [],
   "source": []
  },
  {
   "cell_type": "code",
   "execution_count": 560,
   "metadata": {},
   "outputs": [],
   "source": [
    "i=0\n",
    "training_period = df_quote_dates.loc[i:i+21*36].values\n",
    "testing_period = df_quote_dates.loc[i+21*36:i+21*36+30].values"
   ]
  },
  {
   "cell_type": "code",
   "execution_count": 568,
   "metadata": {},
   "outputs": [
    {
     "data": {
      "text/html": [
       "<div>\n",
       "<style scoped>\n",
       "    .dataframe tbody tr th:only-of-type {\n",
       "        vertical-align: middle;\n",
       "    }\n",
       "\n",
       "    .dataframe tbody tr th {\n",
       "        vertical-align: top;\n",
       "    }\n",
       "\n",
       "    .dataframe thead th {\n",
       "        text-align: right;\n",
       "    }\n",
       "</style>\n",
       "<table border=\"1\" class=\"dataframe\">\n",
       "  <thead>\n",
       "    <tr style=\"text-align: right;\">\n",
       "      <th></th>\n",
       "      <th>a</th>\n",
       "      <th>b</th>\n",
       "      <th>c</th>\n",
       "      <th>start_testing</th>\n",
       "    </tr>\n",
       "    <tr>\n",
       "      <th>expiry_bucket</th>\n",
       "      <th></th>\n",
       "      <th></th>\n",
       "      <th></th>\n",
       "      <th></th>\n",
       "    </tr>\n",
       "  </thead>\n",
       "  <tbody>\n",
       "    <tr>\n",
       "      <th>1M</th>\n",
       "      <td>-0.228508</td>\n",
       "      <td>0.535961</td>\n",
       "      <td>-0.452283</td>\n",
       "      <td>2010-01-04</td>\n",
       "    </tr>\n",
       "    <tr>\n",
       "      <th>3M</th>\n",
       "      <td>-0.232177</td>\n",
       "      <td>0.462139</td>\n",
       "      <td>-0.46664</td>\n",
       "      <td>2010-01-04</td>\n",
       "    </tr>\n",
       "    <tr>\n",
       "      <th>6M</th>\n",
       "      <td>-0.258256</td>\n",
       "      <td>0.55594</td>\n",
       "      <td>-0.600934</td>\n",
       "      <td>2010-01-04</td>\n",
       "    </tr>\n",
       "    <tr>\n",
       "      <th>9M</th>\n",
       "      <td>-0.280989</td>\n",
       "      <td>0.600971</td>\n",
       "      <td>-0.721987</td>\n",
       "      <td>2010-01-04</td>\n",
       "    </tr>\n",
       "    <tr>\n",
       "      <th>12M</th>\n",
       "      <td>-0.277399</td>\n",
       "      <td>0.641813</td>\n",
       "      <td>-0.82839</td>\n",
       "      <td>2010-01-04</td>\n",
       "    </tr>\n",
       "  </tbody>\n",
       "</table>\n",
       "</div>"
      ],
      "text/plain": [
       "                      a         b         c start_testing\n",
       "expiry_bucket                                            \n",
       "1M            -0.228508  0.535961 -0.452283    2010-01-04\n",
       "3M            -0.232177  0.462139  -0.46664    2010-01-04\n",
       "6M            -0.258256   0.55594 -0.600934    2010-01-04\n",
       "9M            -0.280989  0.600971 -0.721987    2010-01-04\n",
       "12M           -0.277399  0.641813  -0.82839    2010-01-04"
      ]
     },
     "execution_count": 568,
     "metadata": {},
     "output_type": "execute_result"
    }
   ],
   "source": [
    "df_params.loc[testing_period[0]]"
   ]
  },
  {
   "cell_type": "code",
   "execution_count": 578,
   "metadata": {},
   "outputs": [
    {
     "data": {
      "text/plain": [
       "86.80437565410338"
      ]
     },
     "execution_count": 578,
     "metadata": {},
     "output_type": "execute_result"
    }
   ],
   "source": [
    "sse_bs(df_calls_diff.loc[testing_period[1:]],'6M',.5)"
   ]
  },
  {
   "cell_type": "code",
   "execution_count": 579,
   "metadata": {},
   "outputs": [
    {
     "data": {
      "text/plain": [
       "45.86514506071337"
      ]
     },
     "execution_count": 579,
     "metadata": {},
     "output_type": "execute_result"
    }
   ],
   "source": [
    "sse_mv(df_calls_diff.loc[testing_period[1:]],\n",
    "       df_params.loc[testing_period[0]],'6M',.5)"
   ]
  },
  {
   "cell_type": "code",
   "execution_count": 587,
   "metadata": {},
   "outputs": [
    {
     "data": {
      "text/plain": [
       "0.4716263470003399"
      ]
     },
     "execution_count": 587,
     "metadata": {},
     "output_type": "execute_result"
    }
   ],
   "source": [
    "gain_mv(df_calls_diff.loc[testing_period[1:]],\n",
    "       df_params.loc[testing_period[0]],'6M',.5)"
   ]
  },
  {
   "cell_type": "code",
   "execution_count": 600,
   "metadata": {},
   "outputs": [
    {
     "data": {
      "text/plain": [
       "array(['2013-03-26T00:00:00.000000000', '2013-03-27T00:00:00.000000000',\n",
       "       '2013-03-28T00:00:00.000000000', '2013-04-01T00:00:00.000000000',\n",
       "       '2013-04-02T00:00:00.000000000', '2013-04-03T00:00:00.000000000',\n",
       "       '2013-04-04T00:00:00.000000000', '2013-04-05T00:00:00.000000000',\n",
       "       '2013-04-08T00:00:00.000000000', '2013-04-09T00:00:00.000000000',\n",
       "       '2013-04-10T00:00:00.000000000', '2013-04-11T00:00:00.000000000',\n",
       "       '2013-04-12T00:00:00.000000000', '2013-04-15T00:00:00.000000000',\n",
       "       '2013-04-16T00:00:00.000000000', '2013-04-17T00:00:00.000000000',\n",
       "       '2013-04-18T00:00:00.000000000', '2013-04-19T00:00:00.000000000',\n",
       "       '2013-04-22T00:00:00.000000000', '2013-04-23T00:00:00.000000000',\n",
       "       '2013-04-24T00:00:00.000000000', '2013-04-25T00:00:00.000000000',\n",
       "       '2013-04-26T00:00:00.000000000', '2013-04-29T00:00:00.000000000',\n",
       "       '2013-04-30T00:00:00.000000000', '2013-05-01T00:00:00.000000000',\n",
       "       '2013-05-02T00:00:00.000000000', '2013-05-03T00:00:00.000000000',\n",
       "       '2013-05-06T00:00:00.000000000', '2013-05-07T00:00:00.000000000'],\n",
       "      dtype='datetime64[ns]')"
      ]
     },
     "execution_count": 600,
     "metadata": {},
     "output_type": "execute_result"
    }
   ],
   "source": [
    "testing_period[1:]"
   ]
  },
  {
   "cell_type": "code",
   "execution_count": null,
   "metadata": {},
   "outputs": [],
   "source": [
    "lists = [\n",
    "   df_quote_dates.loc[21*36:].values,\n",
    "   df_calls_diff.index.get_level_values(2).unique().categories\n",
    "   \n",
    "]\n",
    "\n",
    "df_params = pd.DataFrame(columns=['a','b','c'],\n",
    "                         index=pd.MultiIndex.from_tuples(itertools.product(*lists)))\n",
    "\n",
    "df_params.index.names = ['end_testing', 'expiry_bucket']\n",
    "\n",
    "df_params['start_testing'] = df_params.index.get_level_values(0).map(\n",
    "    {end:start for \n",
    "     end,start in \n",
    "     zip(df_quote_dates.loc[21*36:].values, df_quote_dates.loc[:].values)})"
   ]
  },
  {
   "cell_type": "code",
   "execution_count": 607,
   "metadata": {},
   "outputs": [
    {
     "data": {
      "text/plain": [
       "Index([0.9, 0.8, 0.7, 0.6, 0.5, 0.4, 0.1, 0.3, 0.2], dtype='float64', name='BS_Delta_Bucket')"
      ]
     },
     "execution_count": 607,
     "metadata": {},
     "output_type": "execute_result"
    }
   ],
   "source": [
    "df_calls_diff.index.get_level_values(1).unique()"
   ]
  },
  {
   "cell_type": "code",
   "execution_count": 611,
   "metadata": {},
   "outputs": [
    {
     "data": {
      "text/html": [
       "<div>\n",
       "<style scoped>\n",
       "    .dataframe tbody tr th:only-of-type {\n",
       "        vertical-align: middle;\n",
       "    }\n",
       "\n",
       "    .dataframe tbody tr th {\n",
       "        vertical-align: top;\n",
       "    }\n",
       "\n",
       "    .dataframe thead th {\n",
       "        text-align: right;\n",
       "    }\n",
       "</style>\n",
       "<table border=\"1\" class=\"dataframe\">\n",
       "  <thead>\n",
       "    <tr style=\"text-align: right;\">\n",
       "      <th></th>\n",
       "      <th></th>\n",
       "      <th>1M</th>\n",
       "      <th>3M</th>\n",
       "      <th>6M</th>\n",
       "      <th>9M</th>\n",
       "      <th>12M</th>\n",
       "    </tr>\n",
       "    <tr>\n",
       "      <th>start_testing</th>\n",
       "      <th>delta_bucket</th>\n",
       "      <th></th>\n",
       "      <th></th>\n",
       "      <th></th>\n",
       "      <th></th>\n",
       "      <th></th>\n",
       "    </tr>\n",
       "  </thead>\n",
       "  <tbody>\n",
       "    <tr>\n",
       "      <th rowspan=\"5\" valign=\"top\">2013-03-26</th>\n",
       "      <th>0.9</th>\n",
       "      <td>NaN</td>\n",
       "      <td>NaN</td>\n",
       "      <td>NaN</td>\n",
       "      <td>NaN</td>\n",
       "      <td>NaN</td>\n",
       "    </tr>\n",
       "    <tr>\n",
       "      <th>0.8</th>\n",
       "      <td>NaN</td>\n",
       "      <td>NaN</td>\n",
       "      <td>NaN</td>\n",
       "      <td>NaN</td>\n",
       "      <td>NaN</td>\n",
       "    </tr>\n",
       "    <tr>\n",
       "      <th>0.7</th>\n",
       "      <td>NaN</td>\n",
       "      <td>NaN</td>\n",
       "      <td>NaN</td>\n",
       "      <td>NaN</td>\n",
       "      <td>NaN</td>\n",
       "    </tr>\n",
       "    <tr>\n",
       "      <th>0.6</th>\n",
       "      <td>NaN</td>\n",
       "      <td>NaN</td>\n",
       "      <td>NaN</td>\n",
       "      <td>NaN</td>\n",
       "      <td>NaN</td>\n",
       "    </tr>\n",
       "    <tr>\n",
       "      <th>0.5</th>\n",
       "      <td>NaN</td>\n",
       "      <td>NaN</td>\n",
       "      <td>NaN</td>\n",
       "      <td>NaN</td>\n",
       "      <td>NaN</td>\n",
       "    </tr>\n",
       "    <tr>\n",
       "      <th>...</th>\n",
       "      <th>...</th>\n",
       "      <td>...</td>\n",
       "      <td>...</td>\n",
       "      <td>...</td>\n",
       "      <td>...</td>\n",
       "      <td>...</td>\n",
       "    </tr>\n",
       "    <tr>\n",
       "      <th rowspan=\"5\" valign=\"top\">2022-12-29</th>\n",
       "      <th>0.5</th>\n",
       "      <td>NaN</td>\n",
       "      <td>NaN</td>\n",
       "      <td>NaN</td>\n",
       "      <td>NaN</td>\n",
       "      <td>NaN</td>\n",
       "    </tr>\n",
       "    <tr>\n",
       "      <th>0.4</th>\n",
       "      <td>NaN</td>\n",
       "      <td>NaN</td>\n",
       "      <td>NaN</td>\n",
       "      <td>NaN</td>\n",
       "      <td>NaN</td>\n",
       "    </tr>\n",
       "    <tr>\n",
       "      <th>0.1</th>\n",
       "      <td>NaN</td>\n",
       "      <td>NaN</td>\n",
       "      <td>NaN</td>\n",
       "      <td>NaN</td>\n",
       "      <td>NaN</td>\n",
       "    </tr>\n",
       "    <tr>\n",
       "      <th>0.3</th>\n",
       "      <td>NaN</td>\n",
       "      <td>NaN</td>\n",
       "      <td>NaN</td>\n",
       "      <td>NaN</td>\n",
       "      <td>NaN</td>\n",
       "    </tr>\n",
       "    <tr>\n",
       "      <th>0.2</th>\n",
       "      <td>NaN</td>\n",
       "      <td>NaN</td>\n",
       "      <td>NaN</td>\n",
       "      <td>NaN</td>\n",
       "      <td>NaN</td>\n",
       "    </tr>\n",
       "  </tbody>\n",
       "</table>\n",
       "<p>21357 rows × 5 columns</p>\n",
       "</div>"
      ],
      "text/plain": [
       "                             1M   3M   6M   9M  12M\n",
       "start_testing delta_bucket                         \n",
       "2013-03-26    0.9           NaN  NaN  NaN  NaN  NaN\n",
       "              0.8           NaN  NaN  NaN  NaN  NaN\n",
       "              0.7           NaN  NaN  NaN  NaN  NaN\n",
       "              0.6           NaN  NaN  NaN  NaN  NaN\n",
       "              0.5           NaN  NaN  NaN  NaN  NaN\n",
       "...                         ...  ...  ...  ...  ...\n",
       "2022-12-29    0.5           NaN  NaN  NaN  NaN  NaN\n",
       "              0.4           NaN  NaN  NaN  NaN  NaN\n",
       "              0.1           NaN  NaN  NaN  NaN  NaN\n",
       "              0.3           NaN  NaN  NaN  NaN  NaN\n",
       "              0.2           NaN  NaN  NaN  NaN  NaN\n",
       "\n",
       "[21357 rows x 5 columns]"
      ]
     },
     "execution_count": 611,
     "metadata": {},
     "output_type": "execute_result"
    }
   ],
   "source": [
    "lists = [\n",
    "   df_quote_dates.loc[21*36+1:].values,\n",
    "   df_calls_diff.index.get_level_values(1).unique()\n",
    "   ]\n",
    "\n",
    "\n",
    "df_gain_mv = pd.DataFrame(index=pd.MultiIndex.from_tuples(itertools.product(*lists)),\n",
    "                          columns=df_calls_diff.index.get_level_values(2).unique().categories)\n",
    "\n",
    "df_gain_mv.index.names = ['start_testing','delta_bucket']\n",
    "df_gain_mv"
   ]
  },
  {
   "cell_type": "code",
   "execution_count": null,
   "metadata": {},
   "outputs": [],
   "source": []
  },
  {
   "cell_type": "code",
   "execution_count": null,
   "metadata": {},
   "outputs": [],
   "source": [
    "i=0\n",
    "testing_period = df_quote_dates.loc[i+21*36:i+21*36+30].values"
   ]
  },
  {
   "cell_type": "code",
   "execution_count": 604,
   "metadata": {},
   "outputs": [
    {
     "data": {
      "text/plain": [
       "0.4716263470003399"
      ]
     },
     "execution_count": 604,
     "metadata": {},
     "output_type": "execute_result"
    }
   ],
   "source": [
    "gain_mv(df_calls_diff.loc[testing_period[1:]],\n",
    "       df_params.loc[testing_period[0]],\n",
    "       '6M',\n",
    "       .5)"
   ]
  },
  {
   "cell_type": "code",
   "execution_count": 616,
   "metadata": {},
   "outputs": [
    {
     "data": {
      "text/plain": [
       "Index(['1M', '3M', '6M', '9M', '12M'], dtype='object')"
      ]
     },
     "execution_count": 616,
     "metadata": {},
     "output_type": "execute_result"
    }
   ],
   "source": [
    "df_gain_mv.loc[testing_period[1]].columns"
   ]
  },
  {
   "cell_type": "code",
   "execution_count": 628,
   "metadata": {},
   "outputs": [],
   "source": [
    "for delta in df_gain_mv.loc[testing_period[1]].index:\n",
    "\n",
    "    for expiry in df_gain_mv.loc[testing_period[1]].columns:\n",
    "\n",
    "\n",
    "        try:\n",
    "            df_gain_mv.loc[testing_period[1], delta][expiry] = gain_mv(df_calls_diff.loc[testing_period[1:]],\n",
    "                                                            df_params.loc[testing_period[0]],\n",
    "                                                            expiry,\n",
    "                                                            delta)\n",
    "        except:\n",
    "            \n",
    "            pass"
   ]
  },
  {
   "cell_type": "code",
   "execution_count": 629,
   "metadata": {},
   "outputs": [
    {
     "data": {
      "text/plain": [
       "0.6419263869507814"
      ]
     },
     "execution_count": 629,
     "metadata": {},
     "output_type": "execute_result"
    }
   ],
   "source": [
    "gain_mv(df_calls_diff.loc[testing_period[1:]],\n",
    "                                                            df_params.loc[testing_period[0]],\n",
    "                                                            '6M',\n",
    "                                                            .3)"
   ]
  },
  {
   "cell_type": "code",
   "execution_count": 625,
   "metadata": {},
   "outputs": [
    {
     "data": {
      "text/plain": [
       "0.6990913632095656"
      ]
     },
     "execution_count": 625,
     "metadata": {},
     "output_type": "execute_result"
    }
   ],
   "source": [
    "df_gain_mv.loc[testing_period[1], delta][expiry]"
   ]
  },
  {
   "cell_type": "code",
   "execution_count": 630,
   "metadata": {},
   "outputs": [
    {
     "data": {
      "text/html": [
       "<div>\n",
       "<style scoped>\n",
       "    .dataframe tbody tr th:only-of-type {\n",
       "        vertical-align: middle;\n",
       "    }\n",
       "\n",
       "    .dataframe tbody tr th {\n",
       "        vertical-align: top;\n",
       "    }\n",
       "\n",
       "    .dataframe thead th {\n",
       "        text-align: right;\n",
       "    }\n",
       "</style>\n",
       "<table border=\"1\" class=\"dataframe\">\n",
       "  <thead>\n",
       "    <tr style=\"text-align: right;\">\n",
       "      <th></th>\n",
       "      <th></th>\n",
       "      <th>1M</th>\n",
       "      <th>3M</th>\n",
       "      <th>6M</th>\n",
       "      <th>9M</th>\n",
       "      <th>12M</th>\n",
       "    </tr>\n",
       "    <tr>\n",
       "      <th>start_testing</th>\n",
       "      <th>delta_bucket</th>\n",
       "      <th></th>\n",
       "      <th></th>\n",
       "      <th></th>\n",
       "      <th></th>\n",
       "      <th></th>\n",
       "    </tr>\n",
       "  </thead>\n",
       "  <tbody>\n",
       "    <tr>\n",
       "      <th rowspan=\"9\" valign=\"top\">2013-03-26</th>\n",
       "      <th>0.9</th>\n",
       "      <td>0.266005</td>\n",
       "      <td>0.305617</td>\n",
       "      <td>-1.096795</td>\n",
       "      <td>0.580962</td>\n",
       "      <td>0.59693</td>\n",
       "    </tr>\n",
       "    <tr>\n",
       "      <th>0.8</th>\n",
       "      <td>0.233891</td>\n",
       "      <td>0.371562</td>\n",
       "      <td>-2.191218</td>\n",
       "      <td>0.628194</td>\n",
       "      <td>0.622662</td>\n",
       "    </tr>\n",
       "    <tr>\n",
       "      <th>0.7</th>\n",
       "      <td>0.230716</td>\n",
       "      <td>0.339784</td>\n",
       "      <td>0.564279</td>\n",
       "      <td>0.545132</td>\n",
       "      <td>0.546032</td>\n",
       "    </tr>\n",
       "    <tr>\n",
       "      <th>0.6</th>\n",
       "      <td>0.19293</td>\n",
       "      <td>0.022859</td>\n",
       "      <td>0.430707</td>\n",
       "      <td>0.543685</td>\n",
       "      <td>0.496463</td>\n",
       "    </tr>\n",
       "    <tr>\n",
       "      <th>0.5</th>\n",
       "      <td>0.152814</td>\n",
       "      <td>0.229107</td>\n",
       "      <td>0.471626</td>\n",
       "      <td>0.584716</td>\n",
       "      <td>0.370675</td>\n",
       "    </tr>\n",
       "    <tr>\n",
       "      <th>0.4</th>\n",
       "      <td>0.287587</td>\n",
       "      <td>0.400225</td>\n",
       "      <td>0.395767</td>\n",
       "      <td>0.525398</td>\n",
       "      <td>0.45221</td>\n",
       "    </tr>\n",
       "    <tr>\n",
       "      <th>0.1</th>\n",
       "      <td>0.666615</td>\n",
       "      <td>0.834353</td>\n",
       "      <td>-0.871553</td>\n",
       "      <td>0.400417</td>\n",
       "      <td>0.400417</td>\n",
       "    </tr>\n",
       "    <tr>\n",
       "      <th>0.3</th>\n",
       "      <td>0.280547</td>\n",
       "      <td>0.420713</td>\n",
       "      <td>0.641926</td>\n",
       "      <td>0.674665</td>\n",
       "      <td>-2.071834</td>\n",
       "    </tr>\n",
       "    <tr>\n",
       "      <th>0.2</th>\n",
       "      <td>0.640848</td>\n",
       "      <td>0.605943</td>\n",
       "      <td>0.447442</td>\n",
       "      <td>0.699091</td>\n",
       "      <td>0.699091</td>\n",
       "    </tr>\n",
       "    <tr>\n",
       "      <th>2013-03-27</th>\n",
       "      <th>0.9</th>\n",
       "      <td>NaN</td>\n",
       "      <td>NaN</td>\n",
       "      <td>NaN</td>\n",
       "      <td>NaN</td>\n",
       "      <td>NaN</td>\n",
       "    </tr>\n",
       "  </tbody>\n",
       "</table>\n",
       "</div>"
      ],
      "text/plain": [
       "                                  1M        3M        6M        9M       12M\n",
       "start_testing delta_bucket                                                  \n",
       "2013-03-26    0.9           0.266005  0.305617 -1.096795  0.580962   0.59693\n",
       "              0.8           0.233891  0.371562 -2.191218  0.628194  0.622662\n",
       "              0.7           0.230716  0.339784  0.564279  0.545132  0.546032\n",
       "              0.6            0.19293  0.022859  0.430707  0.543685  0.496463\n",
       "              0.5           0.152814  0.229107  0.471626  0.584716  0.370675\n",
       "              0.4           0.287587  0.400225  0.395767  0.525398   0.45221\n",
       "              0.1           0.666615  0.834353 -0.871553  0.400417  0.400417\n",
       "              0.3           0.280547  0.420713  0.641926  0.674665 -2.071834\n",
       "              0.2           0.640848  0.605943  0.447442  0.699091  0.699091\n",
       "2013-03-27    0.9                NaN       NaN       NaN       NaN       NaN"
      ]
     },
     "execution_count": 630,
     "metadata": {},
     "output_type": "execute_result"
    }
   ],
   "source": [
    "df_gain_mv.head(10)"
   ]
  },
  {
   "cell_type": "code",
   "execution_count": 588,
   "metadata": {},
   "outputs": [
    {
     "data": {
      "text/plain": [
       "0.4716263470003399"
      ]
     },
     "execution_count": 588,
     "metadata": {},
     "output_type": "execute_result"
    }
   ],
   "source": [
    "1-45.86514506071337/86.80437565410338"
   ]
  },
  {
   "cell_type": "code",
   "execution_count": null,
   "metadata": {},
   "outputs": [],
   "source": []
  },
  {
   "cell_type": "code",
   "execution_count": null,
   "metadata": {},
   "outputs": [],
   "source": []
  },
  {
   "cell_type": "code",
   "execution_count": null,
   "metadata": {},
   "outputs": [],
   "source": []
  },
  {
   "cell_type": "code",
   "execution_count": null,
   "metadata": {},
   "outputs": [],
   "source": []
  },
  {
   "cell_type": "code",
   "execution_count": null,
   "metadata": {},
   "outputs": [],
   "source": []
  },
  {
   "cell_type": "code",
   "execution_count": null,
   "metadata": {},
   "outputs": [],
   "source": []
  },
  {
   "cell_type": "code",
   "execution_count": 343,
   "metadata": {},
   "outputs": [],
   "source": [
    "def sse_helio(params, df_option_prices, expiry_bucket):\n",
    "\n",
    "    a = params[0]\n",
    "    b = params[1]\n",
    "    c = params[2]\n",
    "\n",
    "    df = df_option_prices.xs(expiry_bucket,level='Expiry_Bucket')\n",
    "    df = df.groupby(['BS_Delta_Bucket'])[['delta_S', 'delta_price', 'UNDERLYING_LAST_t1', 'C_VEGA_t1', 'DTE_t1']].mean()\n",
    "\n",
    "    print(len(df))\n",
    "\n",
    "    epsilon_bs = df['delta_price'] - df.index*df['delta_S']\n",
    "    epsilon_mv = epsilon_bs - (df['C_VEGA_t1']*100*df['delta_S']/(df['UNDERLYING_LAST_t1']*np.sqrt(df.DTE_t1/360)))*(a+b*df.index+c*(df.index**2))\n",
    "\n",
    "    return sum(epsilon_mv**2)\n",
    "\n",
    "\n",
    "for i in range(0, len(df_quote_dates)-21*36):\n",
    "\n",
    "    testing_period = df_quote_dates.loc[i:i+21*36].values\n",
    "    training_period = df_quote_dates.loc[i+21*36:i+21*36+30].values\n",
    "\n",
    "    for expiry in df_params.loc[testing_period[-1]].index:\n",
    "\n",
    "        result = minimize(fun=sse_helio,\n",
    "            x0=np.array([0, 0, 0]),\n",
    "            args=(df_calls_diff.loc[testing_period], expiry),\n",
    "            method='SLSQP',\n",
    "            )\n",
    "\n",
    "        df_params.loc[testing_period[-1]].loc[expiry,['a','b','c']] = result.x\n",
    "\n",
    "    print(testing_period[-1])\n",
    "\n"
   ]
  },
  {
   "cell_type": "code",
   "execution_count": 501,
   "metadata": {},
   "outputs": [
    {
     "data": {
      "text/html": [
       "<div>\n",
       "<style scoped>\n",
       "    .dataframe tbody tr th:only-of-type {\n",
       "        vertical-align: middle;\n",
       "    }\n",
       "\n",
       "    .dataframe tbody tr th {\n",
       "        vertical-align: top;\n",
       "    }\n",
       "\n",
       "    .dataframe thead th {\n",
       "        text-align: right;\n",
       "    }\n",
       "</style>\n",
       "<table border=\"1\" class=\"dataframe\">\n",
       "  <thead>\n",
       "    <tr style=\"text-align: right;\">\n",
       "      <th></th>\n",
       "      <th></th>\n",
       "      <th>a</th>\n",
       "      <th>b</th>\n",
       "      <th>c</th>\n",
       "      <th>start_testing</th>\n",
       "    </tr>\n",
       "    <tr>\n",
       "      <th>end_testing</th>\n",
       "      <th>expiry_bucket</th>\n",
       "      <th></th>\n",
       "      <th></th>\n",
       "      <th></th>\n",
       "      <th></th>\n",
       "    </tr>\n",
       "  </thead>\n",
       "  <tbody>\n",
       "    <tr>\n",
       "      <th rowspan=\"5\" valign=\"top\">2013-03-25</th>\n",
       "      <th>1M</th>\n",
       "      <td>-0.228508</td>\n",
       "      <td>0.535961</td>\n",
       "      <td>-0.452283</td>\n",
       "      <td>2010-01-04</td>\n",
       "    </tr>\n",
       "    <tr>\n",
       "      <th>3M</th>\n",
       "      <td>-0.232177</td>\n",
       "      <td>0.462139</td>\n",
       "      <td>-0.46664</td>\n",
       "      <td>2010-01-04</td>\n",
       "    </tr>\n",
       "    <tr>\n",
       "      <th>6M</th>\n",
       "      <td>-0.258256</td>\n",
       "      <td>0.55594</td>\n",
       "      <td>-0.600934</td>\n",
       "      <td>2010-01-04</td>\n",
       "    </tr>\n",
       "    <tr>\n",
       "      <th>9M</th>\n",
       "      <td>-0.280989</td>\n",
       "      <td>0.600971</td>\n",
       "      <td>-0.721987</td>\n",
       "      <td>2010-01-04</td>\n",
       "    </tr>\n",
       "    <tr>\n",
       "      <th>12M</th>\n",
       "      <td>-0.277399</td>\n",
       "      <td>0.641813</td>\n",
       "      <td>-0.82839</td>\n",
       "      <td>2010-01-04</td>\n",
       "    </tr>\n",
       "    <tr>\n",
       "      <th>...</th>\n",
       "      <th>...</th>\n",
       "      <td>...</td>\n",
       "      <td>...</td>\n",
       "      <td>...</td>\n",
       "      <td>...</td>\n",
       "    </tr>\n",
       "    <tr>\n",
       "      <th rowspan=\"5\" valign=\"top\">2022-12-29</th>\n",
       "      <th>1M</th>\n",
       "      <td>-0.138054</td>\n",
       "      <td>0.226451</td>\n",
       "      <td>-0.213137</td>\n",
       "      <td>2019-11-22</td>\n",
       "    </tr>\n",
       "    <tr>\n",
       "      <th>3M</th>\n",
       "      <td>-0.141861</td>\n",
       "      <td>0.259235</td>\n",
       "      <td>-0.299518</td>\n",
       "      <td>2019-11-22</td>\n",
       "    </tr>\n",
       "    <tr>\n",
       "      <th>6M</th>\n",
       "      <td>-0.154429</td>\n",
       "      <td>0.325992</td>\n",
       "      <td>-0.371271</td>\n",
       "      <td>2019-11-22</td>\n",
       "    </tr>\n",
       "    <tr>\n",
       "      <th>9M</th>\n",
       "      <td>-0.198123</td>\n",
       "      <td>0.626323</td>\n",
       "      <td>-0.686782</td>\n",
       "      <td>2019-11-22</td>\n",
       "    </tr>\n",
       "    <tr>\n",
       "      <th>12M</th>\n",
       "      <td>-0.231518</td>\n",
       "      <td>0.808532</td>\n",
       "      <td>-0.850201</td>\n",
       "      <td>2019-11-22</td>\n",
       "    </tr>\n",
       "  </tbody>\n",
       "</table>\n",
       "<p>11870 rows × 4 columns</p>\n",
       "</div>"
      ],
      "text/plain": [
       "                                  a         b         c start_testing\n",
       "end_testing expiry_bucket                                            \n",
       "2013-03-25  1M            -0.228508  0.535961 -0.452283    2010-01-04\n",
       "            3M            -0.232177  0.462139  -0.46664    2010-01-04\n",
       "            6M            -0.258256   0.55594 -0.600934    2010-01-04\n",
       "            9M            -0.280989  0.600971 -0.721987    2010-01-04\n",
       "            12M           -0.277399  0.641813  -0.82839    2010-01-04\n",
       "...                             ...       ...       ...           ...\n",
       "2022-12-29  1M            -0.138054  0.226451 -0.213137    2019-11-22\n",
       "            3M            -0.141861  0.259235 -0.299518    2019-11-22\n",
       "            6M            -0.154429  0.325992 -0.371271    2019-11-22\n",
       "            9M            -0.198123  0.626323 -0.686782    2019-11-22\n",
       "            12M           -0.231518  0.808532 -0.850201    2019-11-22\n",
       "\n",
       "[11870 rows x 4 columns]"
      ]
     },
     "execution_count": 501,
     "metadata": {},
     "output_type": "execute_result"
    }
   ],
   "source": [
    "df_params"
   ]
  },
  {
   "cell_type": "code",
   "execution_count": 480,
   "metadata": {},
   "outputs": [
    {
     "data": {
      "text/html": [
       "<div>\n",
       "<style scoped>\n",
       "    .dataframe tbody tr th:only-of-type {\n",
       "        vertical-align: middle;\n",
       "    }\n",
       "\n",
       "    .dataframe tbody tr th {\n",
       "        vertical-align: top;\n",
       "    }\n",
       "\n",
       "    .dataframe thead th {\n",
       "        text-align: right;\n",
       "    }\n",
       "</style>\n",
       "<table border=\"1\" class=\"dataframe\">\n",
       "  <thead>\n",
       "    <tr style=\"text-align: right;\">\n",
       "      <th></th>\n",
       "      <th></th>\n",
       "      <th></th>\n",
       "      <th>UNDERLYING_LAST_t1</th>\n",
       "      <th>DTE_t1</th>\n",
       "      <th>C_DELTA_t1</th>\n",
       "      <th>C_VEGA_t1</th>\n",
       "      <th>C_IV_t1</th>\n",
       "      <th>C_LAST_t1</th>\n",
       "      <th>C_MID_t1</th>\n",
       "      <th>C_BS_t1</th>\n",
       "      <th>UNDERLYING_LAST_t0</th>\n",
       "      <th>DTE_t0</th>\n",
       "      <th>C_DELTA_t0</th>\n",
       "      <th>C_VEGA_t0</th>\n",
       "      <th>C_IV_t0</th>\n",
       "      <th>C_LAST_t0</th>\n",
       "      <th>C_MID_t0</th>\n",
       "      <th>C_BS_t0</th>\n",
       "      <th>QUOTE_DATE_t0</th>\n",
       "      <th>delta_price</th>\n",
       "      <th>delta_S</th>\n",
       "      <th>delta_price_perc</th>\n",
       "      <th>delta_S_perc</th>\n",
       "      <th>y</th>\n",
       "    </tr>\n",
       "    <tr>\n",
       "      <th>QUOTE_DATE_t1</th>\n",
       "      <th>BS_Delta_Bucket</th>\n",
       "      <th>Expiry_Bucket</th>\n",
       "      <th></th>\n",
       "      <th></th>\n",
       "      <th></th>\n",
       "      <th></th>\n",
       "      <th></th>\n",
       "      <th></th>\n",
       "      <th></th>\n",
       "      <th></th>\n",
       "      <th></th>\n",
       "      <th></th>\n",
       "      <th></th>\n",
       "      <th></th>\n",
       "      <th></th>\n",
       "      <th></th>\n",
       "      <th></th>\n",
       "      <th></th>\n",
       "      <th></th>\n",
       "      <th></th>\n",
       "      <th></th>\n",
       "      <th></th>\n",
       "      <th></th>\n",
       "      <th></th>\n",
       "    </tr>\n",
       "  </thead>\n",
       "  <tbody>\n",
       "    <tr>\n",
       "      <th rowspan=\"5\" valign=\"top\">2018-04-02</th>\n",
       "      <th rowspan=\"3\" valign=\"top\">0.7</th>\n",
       "      <th>1M</th>\n",
       "      <td>2581.58</td>\n",
       "      <td>16.0</td>\n",
       "      <td>0.74646</td>\n",
       "      <td>1.76531</td>\n",
       "      <td>0.27100</td>\n",
       "      <td>100.10</td>\n",
       "      <td>114.855</td>\n",
       "      <td>118.416575</td>\n",
       "      <td>2614.43</td>\n",
       "      <td>15.0</td>\n",
       "      <td>0.84982</td>\n",
       "      <td>1.27069</td>\n",
       "      <td>0.23925</td>\n",
       "      <td>100.10</td>\n",
       "      <td>138.510</td>\n",
       "      <td>139.039395</td>\n",
       "      <td>2018-04-03</td>\n",
       "      <td>23.655</td>\n",
       "      <td>32.85</td>\n",
       "      <td>0.205955</td>\n",
       "      <td>0.012725</td>\n",
       "      <td>-0.081295</td>\n",
       "    </tr>\n",
       "    <tr>\n",
       "      <th>1M</th>\n",
       "      <td>2581.58</td>\n",
       "      <td>16.0</td>\n",
       "      <td>0.67949</td>\n",
       "      <td>1.97890</td>\n",
       "      <td>0.25858</td>\n",
       "      <td>78.50</td>\n",
       "      <td>91.650</td>\n",
       "      <td>94.946711</td>\n",
       "      <td>2614.43</td>\n",
       "      <td>15.0</td>\n",
       "      <td>0.79329</td>\n",
       "      <td>1.55835</td>\n",
       "      <td>0.23057</td>\n",
       "      <td>78.50</td>\n",
       "      <td>113.105</td>\n",
       "      <td>113.335641</td>\n",
       "      <td>2018-04-03</td>\n",
       "      <td>21.455</td>\n",
       "      <td>32.85</td>\n",
       "      <td>0.234097</td>\n",
       "      <td>0.012725</td>\n",
       "      <td>-0.072523</td>\n",
       "    </tr>\n",
       "    <tr>\n",
       "      <th>1M</th>\n",
       "      <td>2581.58</td>\n",
       "      <td>16.0</td>\n",
       "      <td>0.66752</td>\n",
       "      <td>2.00983</td>\n",
       "      <td>0.25645</td>\n",
       "      <td>86.10</td>\n",
       "      <td>87.950</td>\n",
       "      <td>91.194036</td>\n",
       "      <td>2614.43</td>\n",
       "      <td>15.0</td>\n",
       "      <td>0.78555</td>\n",
       "      <td>1.59215</td>\n",
       "      <td>0.22628</td>\n",
       "      <td>86.10</td>\n",
       "      <td>108.500</td>\n",
       "      <td>108.768717</td>\n",
       "      <td>2018-04-03</td>\n",
       "      <td>20.550</td>\n",
       "      <td>32.85</td>\n",
       "      <td>0.233655</td>\n",
       "      <td>0.012725</td>\n",
       "      <td>-0.113595</td>\n",
       "    </tr>\n",
       "    <tr>\n",
       "      <th rowspan=\"2\" valign=\"top\">0.6</th>\n",
       "      <th>1M</th>\n",
       "      <td>2581.58</td>\n",
       "      <td>16.0</td>\n",
       "      <td>0.64272</td>\n",
       "      <td>2.06309</td>\n",
       "      <td>0.24868</td>\n",
       "      <td>77.69</td>\n",
       "      <td>80.050</td>\n",
       "      <td>83.149669</td>\n",
       "      <td>2614.43</td>\n",
       "      <td>15.0</td>\n",
       "      <td>0.76287</td>\n",
       "      <td>1.68597</td>\n",
       "      <td>0.22307</td>\n",
       "      <td>77.69</td>\n",
       "      <td>100.405</td>\n",
       "      <td>100.574753</td>\n",
       "      <td>2018-04-03</td>\n",
       "      <td>20.355</td>\n",
       "      <td>32.85</td>\n",
       "      <td>0.254279</td>\n",
       "      <td>0.012725</td>\n",
       "      <td>-0.060899</td>\n",
       "    </tr>\n",
       "    <tr>\n",
       "      <th>1M</th>\n",
       "      <td>2581.58</td>\n",
       "      <td>16.0</td>\n",
       "      <td>0.62917</td>\n",
       "      <td>2.09163</td>\n",
       "      <td>0.24788</td>\n",
       "      <td>75.45</td>\n",
       "      <td>76.900</td>\n",
       "      <td>79.822544</td>\n",
       "      <td>2614.43</td>\n",
       "      <td>15.0</td>\n",
       "      <td>0.74470</td>\n",
       "      <td>1.75800</td>\n",
       "      <td>0.22995</td>\n",
       "      <td>75.45</td>\n",
       "      <td>97.805</td>\n",
       "      <td>97.975795</td>\n",
       "      <td>2018-04-03</td>\n",
       "      <td>20.905</td>\n",
       "      <td>32.85</td>\n",
       "      <td>0.271847</td>\n",
       "      <td>0.012725</td>\n",
       "      <td>0.018754</td>\n",
       "    </tr>\n",
       "    <tr>\n",
       "      <th>...</th>\n",
       "      <th>...</th>\n",
       "      <th>...</th>\n",
       "      <td>...</td>\n",
       "      <td>...</td>\n",
       "      <td>...</td>\n",
       "      <td>...</td>\n",
       "      <td>...</td>\n",
       "      <td>...</td>\n",
       "      <td>...</td>\n",
       "      <td>...</td>\n",
       "      <td>...</td>\n",
       "      <td>...</td>\n",
       "      <td>...</td>\n",
       "      <td>...</td>\n",
       "      <td>...</td>\n",
       "      <td>...</td>\n",
       "      <td>...</td>\n",
       "      <td>...</td>\n",
       "      <td>...</td>\n",
       "      <td>...</td>\n",
       "      <td>...</td>\n",
       "      <td>...</td>\n",
       "      <td>...</td>\n",
       "      <td>...</td>\n",
       "    </tr>\n",
       "    <tr>\n",
       "      <th rowspan=\"5\" valign=\"top\">2019-05-31</th>\n",
       "      <th rowspan=\"2\" valign=\"top\">0.5</th>\n",
       "      <th>9M</th>\n",
       "      <td>2751.75</td>\n",
       "      <td>294.0</td>\n",
       "      <td>0.50294</td>\n",
       "      <td>9.71136</td>\n",
       "      <td>0.19015</td>\n",
       "      <td>169.60</td>\n",
       "      <td>168.100</td>\n",
       "      <td>189.226276</td>\n",
       "      <td>2743.80</td>\n",
       "      <td>291.0</td>\n",
       "      <td>0.49617</td>\n",
       "      <td>9.64901</td>\n",
       "      <td>0.18681</td>\n",
       "      <td>156.47</td>\n",
       "      <td>161.455</td>\n",
       "      <td>180.755734</td>\n",
       "      <td>2019-06-03</td>\n",
       "      <td>-6.645</td>\n",
       "      <td>-7.95</td>\n",
       "      <td>-0.039530</td>\n",
       "      <td>-0.002889</td>\n",
       "      <td>0.852466</td>\n",
       "    </tr>\n",
       "    <tr>\n",
       "      <th>9M</th>\n",
       "      <td>2751.75</td>\n",
       "      <td>294.0</td>\n",
       "      <td>0.45480</td>\n",
       "      <td>9.66625</td>\n",
       "      <td>0.18144</td>\n",
       "      <td>138.90</td>\n",
       "      <td>139.200</td>\n",
       "      <td>158.266641</td>\n",
       "      <td>2743.80</td>\n",
       "      <td>291.0</td>\n",
       "      <td>0.44751</td>\n",
       "      <td>9.58066</td>\n",
       "      <td>0.17803</td>\n",
       "      <td>130.70</td>\n",
       "      <td>132.400</td>\n",
       "      <td>150.125973</td>\n",
       "      <td>2019-06-03</td>\n",
       "      <td>-6.800</td>\n",
       "      <td>-7.95</td>\n",
       "      <td>-0.048851</td>\n",
       "      <td>-0.002889</td>\n",
       "      <td>1.030447</td>\n",
       "    </tr>\n",
       "    <tr>\n",
       "      <th>0.4</th>\n",
       "      <th>9M</th>\n",
       "      <td>2751.75</td>\n",
       "      <td>294.0</td>\n",
       "      <td>0.40380</td>\n",
       "      <td>9.46071</td>\n",
       "      <td>0.17326</td>\n",
       "      <td>116.10</td>\n",
       "      <td>112.360</td>\n",
       "      <td>130.010060</td>\n",
       "      <td>2743.80</td>\n",
       "      <td>291.0</td>\n",
       "      <td>0.39508</td>\n",
       "      <td>9.34572</td>\n",
       "      <td>0.16990</td>\n",
       "      <td>116.10</td>\n",
       "      <td>106.455</td>\n",
       "      <td>122.400097</td>\n",
       "      <td>2019-06-03</td>\n",
       "      <td>-5.905</td>\n",
       "      <td>-7.95</td>\n",
       "      <td>-0.052554</td>\n",
       "      <td>-0.002889</td>\n",
       "      <td>0.890975</td>\n",
       "    </tr>\n",
       "    <tr>\n",
       "      <th rowspan=\"2\" valign=\"top\">0.3</th>\n",
       "      <th>12M</th>\n",
       "      <td>2751.75</td>\n",
       "      <td>385.0</td>\n",
       "      <td>0.30231</td>\n",
       "      <td>9.74273</td>\n",
       "      <td>0.16005</td>\n",
       "      <td>82.00</td>\n",
       "      <td>79.345</td>\n",
       "      <td>97.764506</td>\n",
       "      <td>2743.80</td>\n",
       "      <td>382.0</td>\n",
       "      <td>0.29219</td>\n",
       "      <td>9.54435</td>\n",
       "      <td>0.15709</td>\n",
       "      <td>72.00</td>\n",
       "      <td>74.445</td>\n",
       "      <td>91.302168</td>\n",
       "      <td>2019-06-03</td>\n",
       "      <td>-4.900</td>\n",
       "      <td>-7.95</td>\n",
       "      <td>-0.061756</td>\n",
       "      <td>-0.002889</td>\n",
       "      <td>0.917266</td>\n",
       "    </tr>\n",
       "    <tr>\n",
       "      <th>12M</th>\n",
       "      <td>2751.75</td>\n",
       "      <td>385.0</td>\n",
       "      <td>0.27887</td>\n",
       "      <td>9.39917</td>\n",
       "      <td>0.15705</td>\n",
       "      <td>74.00</td>\n",
       "      <td>70.150</td>\n",
       "      <td>87.649809</td>\n",
       "      <td>2743.80</td>\n",
       "      <td>382.0</td>\n",
       "      <td>0.26910</td>\n",
       "      <td>9.17596</td>\n",
       "      <td>0.15367</td>\n",
       "      <td>63.40</td>\n",
       "      <td>65.400</td>\n",
       "      <td>81.060957</td>\n",
       "      <td>2019-06-03</td>\n",
       "      <td>-4.750</td>\n",
       "      <td>-7.95</td>\n",
       "      <td>-0.067712</td>\n",
       "      <td>-0.002889</td>\n",
       "      <td>0.964637</td>\n",
       "    </tr>\n",
       "  </tbody>\n",
       "</table>\n",
       "<p>214604 rows × 22 columns</p>\n",
       "</div>"
      ],
      "text/plain": [
       "                                             UNDERLYING_LAST_t1  DTE_t1  \\\n",
       "QUOTE_DATE_t1 BS_Delta_Bucket Expiry_Bucket                               \n",
       "2018-04-02    0.7             1M                        2581.58    16.0   \n",
       "                              1M                        2581.58    16.0   \n",
       "                              1M                        2581.58    16.0   \n",
       "              0.6             1M                        2581.58    16.0   \n",
       "                              1M                        2581.58    16.0   \n",
       "...                                                         ...     ...   \n",
       "2019-05-31    0.5             9M                        2751.75   294.0   \n",
       "                              9M                        2751.75   294.0   \n",
       "              0.4             9M                        2751.75   294.0   \n",
       "              0.3             12M                       2751.75   385.0   \n",
       "                              12M                       2751.75   385.0   \n",
       "\n",
       "                                             C_DELTA_t1  C_VEGA_t1  C_IV_t1  \\\n",
       "QUOTE_DATE_t1 BS_Delta_Bucket Expiry_Bucket                                   \n",
       "2018-04-02    0.7             1M                0.74646    1.76531  0.27100   \n",
       "                              1M                0.67949    1.97890  0.25858   \n",
       "                              1M                0.66752    2.00983  0.25645   \n",
       "              0.6             1M                0.64272    2.06309  0.24868   \n",
       "                              1M                0.62917    2.09163  0.24788   \n",
       "...                                                 ...        ...      ...   \n",
       "2019-05-31    0.5             9M                0.50294    9.71136  0.19015   \n",
       "                              9M                0.45480    9.66625  0.18144   \n",
       "              0.4             9M                0.40380    9.46071  0.17326   \n",
       "              0.3             12M               0.30231    9.74273  0.16005   \n",
       "                              12M               0.27887    9.39917  0.15705   \n",
       "\n",
       "                                             C_LAST_t1  C_MID_t1     C_BS_t1  \\\n",
       "QUOTE_DATE_t1 BS_Delta_Bucket Expiry_Bucket                                    \n",
       "2018-04-02    0.7             1M                100.10   114.855  118.416575   \n",
       "                              1M                 78.50    91.650   94.946711   \n",
       "                              1M                 86.10    87.950   91.194036   \n",
       "              0.6             1M                 77.69    80.050   83.149669   \n",
       "                              1M                 75.45    76.900   79.822544   \n",
       "...                                                ...       ...         ...   \n",
       "2019-05-31    0.5             9M                169.60   168.100  189.226276   \n",
       "                              9M                138.90   139.200  158.266641   \n",
       "              0.4             9M                116.10   112.360  130.010060   \n",
       "              0.3             12M                82.00    79.345   97.764506   \n",
       "                              12M                74.00    70.150   87.649809   \n",
       "\n",
       "                                             UNDERLYING_LAST_t0  DTE_t0  \\\n",
       "QUOTE_DATE_t1 BS_Delta_Bucket Expiry_Bucket                               \n",
       "2018-04-02    0.7             1M                        2614.43    15.0   \n",
       "                              1M                        2614.43    15.0   \n",
       "                              1M                        2614.43    15.0   \n",
       "              0.6             1M                        2614.43    15.0   \n",
       "                              1M                        2614.43    15.0   \n",
       "...                                                         ...     ...   \n",
       "2019-05-31    0.5             9M                        2743.80   291.0   \n",
       "                              9M                        2743.80   291.0   \n",
       "              0.4             9M                        2743.80   291.0   \n",
       "              0.3             12M                       2743.80   382.0   \n",
       "                              12M                       2743.80   382.0   \n",
       "\n",
       "                                             C_DELTA_t0  C_VEGA_t0  C_IV_t0  \\\n",
       "QUOTE_DATE_t1 BS_Delta_Bucket Expiry_Bucket                                   \n",
       "2018-04-02    0.7             1M                0.84982    1.27069  0.23925   \n",
       "                              1M                0.79329    1.55835  0.23057   \n",
       "                              1M                0.78555    1.59215  0.22628   \n",
       "              0.6             1M                0.76287    1.68597  0.22307   \n",
       "                              1M                0.74470    1.75800  0.22995   \n",
       "...                                                 ...        ...      ...   \n",
       "2019-05-31    0.5             9M                0.49617    9.64901  0.18681   \n",
       "                              9M                0.44751    9.58066  0.17803   \n",
       "              0.4             9M                0.39508    9.34572  0.16990   \n",
       "              0.3             12M               0.29219    9.54435  0.15709   \n",
       "                              12M               0.26910    9.17596  0.15367   \n",
       "\n",
       "                                             C_LAST_t0  C_MID_t0     C_BS_t0  \\\n",
       "QUOTE_DATE_t1 BS_Delta_Bucket Expiry_Bucket                                    \n",
       "2018-04-02    0.7             1M                100.10   138.510  139.039395   \n",
       "                              1M                 78.50   113.105  113.335641   \n",
       "                              1M                 86.10   108.500  108.768717   \n",
       "              0.6             1M                 77.69   100.405  100.574753   \n",
       "                              1M                 75.45    97.805   97.975795   \n",
       "...                                                ...       ...         ...   \n",
       "2019-05-31    0.5             9M                156.47   161.455  180.755734   \n",
       "                              9M                130.70   132.400  150.125973   \n",
       "              0.4             9M                116.10   106.455  122.400097   \n",
       "              0.3             12M                72.00    74.445   91.302168   \n",
       "                              12M                63.40    65.400   81.060957   \n",
       "\n",
       "                                            QUOTE_DATE_t0  delta_price  \\\n",
       "QUOTE_DATE_t1 BS_Delta_Bucket Expiry_Bucket                              \n",
       "2018-04-02    0.7             1M               2018-04-03       23.655   \n",
       "                              1M               2018-04-03       21.455   \n",
       "                              1M               2018-04-03       20.550   \n",
       "              0.6             1M               2018-04-03       20.355   \n",
       "                              1M               2018-04-03       20.905   \n",
       "...                                                   ...          ...   \n",
       "2019-05-31    0.5             9M               2019-06-03       -6.645   \n",
       "                              9M               2019-06-03       -6.800   \n",
       "              0.4             9M               2019-06-03       -5.905   \n",
       "              0.3             12M              2019-06-03       -4.900   \n",
       "                              12M              2019-06-03       -4.750   \n",
       "\n",
       "                                             delta_S  delta_price_perc  \\\n",
       "QUOTE_DATE_t1 BS_Delta_Bucket Expiry_Bucket                              \n",
       "2018-04-02    0.7             1M               32.85          0.205955   \n",
       "                              1M               32.85          0.234097   \n",
       "                              1M               32.85          0.233655   \n",
       "              0.6             1M               32.85          0.254279   \n",
       "                              1M               32.85          0.271847   \n",
       "...                                              ...               ...   \n",
       "2019-05-31    0.5             9M               -7.95         -0.039530   \n",
       "                              9M               -7.95         -0.048851   \n",
       "              0.4             9M               -7.95         -0.052554   \n",
       "              0.3             12M              -7.95         -0.061756   \n",
       "                              12M              -7.95         -0.067712   \n",
       "\n",
       "                                             delta_S_perc         y  \n",
       "QUOTE_DATE_t1 BS_Delta_Bucket Expiry_Bucket                          \n",
       "2018-04-02    0.7             1M                 0.012725 -0.081295  \n",
       "                              1M                 0.012725 -0.072523  \n",
       "                              1M                 0.012725 -0.113595  \n",
       "              0.6             1M                 0.012725 -0.060899  \n",
       "                              1M                 0.012725  0.018754  \n",
       "...                                                   ...       ...  \n",
       "2019-05-31    0.5             9M                -0.002889  0.852466  \n",
       "                              9M                -0.002889  1.030447  \n",
       "              0.4             9M                -0.002889  0.890975  \n",
       "              0.3             12M               -0.002889  0.917266  \n",
       "                              12M               -0.002889  0.964637  \n",
       "\n",
       "[214604 rows x 22 columns]"
      ]
     },
     "execution_count": 480,
     "metadata": {},
     "output_type": "execute_result"
    }
   ],
   "source": [
    "df_calls_diff.loc['2018-4-01':'2019-6-01']"
   ]
  },
  {
   "cell_type": "code",
   "execution_count": null,
   "metadata": {},
   "outputs": [],
   "source": [
    "plt.plot(df_params.xs('3M',level=1)[['a','b','c']])\n",
    "plt.show()"
   ]
  },
  {
   "cell_type": "code",
   "execution_count": null,
   "metadata": {},
   "outputs": [],
   "source": [
    "df_params.loc[testing_period[-1]].loc['3M'] = result.x"
   ]
  },
  {
   "cell_type": "code",
   "execution_count": null,
   "metadata": {},
   "outputs": [],
   "source": []
  },
  {
   "cell_type": "code",
   "execution_count": null,
   "metadata": {},
   "outputs": [],
   "source": []
  },
  {
   "cell_type": "code",
   "execution_count": null,
   "metadata": {},
   "outputs": [],
   "source": []
  },
  {
   "cell_type": "code",
   "execution_count": null,
   "metadata": {},
   "outputs": [],
   "source": [
    "def sse_mv(params, df_option_prices, expiry_bucket):\n",
    "\n",
    "    a = params[0]\n",
    "    b = params[1]\n",
    "    c = params[2]\n",
    "\n",
    "    df = df_option_prices.xs(expiry_bucket,level='Expiry_Bucket')\n",
    "\n",
    "    epsilon_bs = df['delta_price_perc'] - df['C_DELTA_t1']*df['delta_S_perc']\n",
    "    epsilon_mv = epsilon_bs - (df['C_VEGA_t1']*100*df['delta_S_perc']/(np.sqrt(df.DTE_t1/360)))*(a+b*df['C_DELTA_t1']+c*(df['C_DELTA_t1']**2))\n",
    "\n",
    "    return sum(epsilon_mv**2)\n",
    "\n",
    "\n",
    "result = minimize(fun=sse_mv,\n",
    "         x0=np.array([0, 0, 0]),\n",
    "         args=(df_calls_diff.loc[testing_period], '3M'),\n",
    "         method='SLSQP',\n",
    "         )\n",
    "\n",
    "print(result)"
   ]
  },
  {
   "cell_type": "code",
   "execution_count": null,
   "metadata": {},
   "outputs": [],
   "source": []
  },
  {
   "cell_type": "code",
   "execution_count": null,
   "metadata": {},
   "outputs": [],
   "source": []
  },
  {
   "cell_type": "code",
   "execution_count": null,
   "metadata": {},
   "outputs": [],
   "source": [
    "a,b,c = result.x\n",
    "\n",
    "x = df_calls_diff.loc[df_calls_diff.QUOTE_DATE_t0 == df_calls_diff.QUOTE_DATE_t0.max()].xs('6M',level='Expiry_Bucket').C_DELTA_t0\n",
    "y = df_calls_diff.loc[df_calls_diff.QUOTE_DATE_t0 == df_calls_diff.QUOTE_DATE_t0.max()].xs('6M',level='Expiry_Bucket').apply(lambda row: row.C_VEGA_t0*100/(row.UNDERLYING_LAST_t0*np.sqrt(row.DTE_t0/360))*(a+b*row.C_DELTA_t0+c*(row.C_DELTA_t0**2)) ,axis=1)\n",
    "plt.scatter(x=x,y=y)"
   ]
  },
  {
   "cell_type": "code",
   "execution_count": null,
   "metadata": {},
   "outputs": [],
   "source": [
    "a,b,c = result.x"
   ]
  },
  {
   "cell_type": "code",
   "execution_count": null,
   "metadata": {},
   "outputs": [],
   "source": [
    "x = [a+b*x+c*(x**2) for x in df_calls_diff.C_DELTA_t1]*df_calls_diff.delta_S_perc/(np.sqrt(df_calls_diff.DTE_t1/360))\n",
    "y = df_calls_diff['C_IV_t0'] - df_calls_diff['C_IV_t1']\n",
    "\n",
    "\n",
    "slope, intercept, r, p, std_err = scipy.stats.linregress(x, y)\n",
    "\n",
    "def fitted_line(x):\n",
    "  return slope * x + intercept\n",
    "\n",
    "fitted_data = list(map(fitted_line, x))\n",
    "\n",
    "plt.scatter(x = x,\n",
    "            y = y)\n",
    "\n",
    "plt.plot(x, fitted_data,c='black')\n",
    "\n",
    "plt.show()\n",
    "\n",
    "print(f\"\"\"Linear Regression - Change in Implied vs Normalized Return: \\n\n",
    "      Slope:{slope}\\n\n",
    "      Intercept:{intercept}\\n  \n",
    "      R²: {r**2}\"\"\")"
   ]
  },
  {
   "cell_type": "code",
   "execution_count": null,
   "metadata": {},
   "outputs": [],
   "source": [
    "plt.boxplot((df_helio['C_IV_t0']-df_helio['C_IV_t1']))\n",
    "plt.show()"
   ]
  },
  {
   "cell_type": "code",
   "execution_count": null,
   "metadata": {},
   "outputs": [],
   "source": []
  },
  {
   "cell_type": "code",
   "execution_count": null,
   "metadata": {},
   "outputs": [],
   "source": []
  },
  {
   "cell_type": "code",
   "execution_count": null,
   "metadata": {},
   "outputs": [],
   "source": [
    "#Parse data for CALLS\n",
    "\n",
    "df_calls_data = df_option_data.drop(['P_BID', 'P_ASK', 'P_SIZE', 'P_LAST', 'P_DELTA', \n",
    "                                     'P_GAMMA', 'P_VEGA', 'P_THETA', 'P_RHO', 'P_IV','P_VOLUME'], axis=1)\n",
    "\n",
    "df_calls_data = df_calls_data[(df_calls_data.C_DELTA < .95)&(df_calls_data.C_DELTA > .05)]\n",
    "df_calls_data['BS_Delta_Bucket'] = [round(x*10)/10 for x in df_calls_data.C_DELTA]\n",
    "\n",
    "df_calls_data['Expiry_Bucket'] = pd.cut(df_calls_data.DTE,[14,30,91, 182,365,2000],\n",
    "                                        labels=['1M', '3M', '6M', '9M', '12M'])\n",
    "\n",
    "#df_calls_data = df_calls_data.set_index(['BS_Delta_Bucket','Expiry_Bucket'])"
   ]
  },
  {
   "cell_type": "code",
   "execution_count": null,
   "metadata": {},
   "outputs": [],
   "source": [
    "pd.set_option('display.max_columns', None)"
   ]
  },
  {
   "cell_type": "code",
   "execution_count": null,
   "metadata": {},
   "outputs": [],
   "source": [
    "df_calls_data.set_index(['EXPIRE_UNIX'])"
   ]
  },
  {
   "cell_type": "code",
   "execution_count": null,
   "metadata": {},
   "outputs": [],
   "source": [
    "df_foo = df_calls_data.set_index(['BS_Delta_Bucket','Expiry_Bucket']).loc[(.5,'6M')]\n",
    "\n",
    "df_foo = df_foo.groupby('QUOTE_DATE')[['UNDERLYING_LAST', 'C_IV', 'C_LAST', 'C_DELTA', 'C_VEGA', 'DTE','C_MID','C_BS']].mean()\n",
    "\n",
    "df_foo['Delta_S'] = df_foo['UNDERLYING_LAST'].diff()/df_foo['UNDERLYING_LAST']\n",
    "df_foo['Delta_IV'] = df_foo['C_IV'].diff()\n",
    "\n",
    "df_foo = df_foo.dropna()\n",
    "\n",
    "x = df_foo['Delta_IV']\n",
    "y = df_foo['Delta_S']\n",
    "\n",
    "slope, intercept, r, p, std_err = scipy.stats.linregress(x, y)\n",
    "\n",
    "def fitted_line(x):\n",
    "  return slope * x + intercept\n",
    "\n",
    "fitted_data = list(map(fitted_line, x))\n",
    "\n",
    "plt.scatter(x = x,\n",
    "            y = y)\n",
    "\n",
    "plt.plot(x, fitted_data)\n",
    "\n",
    "plt.show()\n",
    "\n",
    "print(f\"\"\"Linear Regression - Change in Asset Price vs Change in Implied Vol: \\n\n",
    "      Slope:{slope}\\n\n",
    "      Intercept:{intercept}\\n  \n",
    "      R²: {r**2}\"\"\")\n",
    "\n",
    "x = (df_foo['UNDERLYING_LAST'].diff()*df_foo['C_DELTA']).dropna()\n",
    "y = df_foo['C_BS'].diff().dropna()\n",
    "\n",
    "\n",
    "slope, intercept, r, p, std_err = scipy.stats.linregress(x, y)\n",
    "\n",
    "def fitted_line(x):\n",
    "  return slope * x + intercept\n",
    "\n",
    "fitted_data = list(map(fitted_line, x))\n",
    "\n",
    "plt.scatter(x = x,\n",
    "            y = y)\n",
    "\n",
    "plt.plot(x, fitted_data)\n",
    "\n",
    "plt.show()\n",
    "\n",
    "print(f\"\"\"Linear Regression - Change in Option Price vs PnL Delta: \\n\n",
    "      Slope:{slope}\\n\n",
    "      Intercept:{intercept}\\n  \n",
    "      R²: {r**2}\"\"\")"
   ]
  },
  {
   "cell_type": "code",
   "execution_count": null,
   "metadata": {},
   "outputs": [],
   "source": [
    "pd.to_datetime('2010-01-08')-pd.to_datetime('2010-04-15')"
   ]
  },
  {
   "cell_type": "code",
   "execution_count": null,
   "metadata": {},
   "outputs": [],
   "source": [
    "df_calls_data.iloc[1000]\n"
   ]
  },
  {
   "cell_type": "code",
   "execution_count": null,
   "metadata": {},
   "outputs": [],
   "source": [
    "black_scholes(S=df_calls_data.iloc[1000].UNDERLYING_LAST,\n",
    "              K=df_calls_data.iloc[1000].STRIKE,\n",
    "              sigma=df_calls_data.iloc[1000].C_IV,\n",
    "              T=df_calls_data.iloc[1000].DTE/360,\n",
    "              r=-0.01)"
   ]
  },
  {
   "cell_type": "code",
   "execution_count": null,
   "metadata": {},
   "outputs": [],
   "source": [
    "bs_delta(S=df_calls_data.iloc[1000].UNDERLYING_LAST,\n",
    "         K=df_calls_data.iloc[1000].STRIKE,\n",
    "         sigma=df_calls_data.iloc[1000].C_IV,\n",
    "         T=df_calls_data.iloc[1000].DTE/360,\n",
    "         r=-0.01)"
   ]
  },
  {
   "cell_type": "code",
   "execution_count": null,
   "metadata": {},
   "outputs": [],
   "source": [
    "bs_vega(S=df_calls_data.iloc[1000].UNDERLYING_LAST,\n",
    "              K=df_calls_data.iloc[1000].STRIKE,\n",
    "              sigma=df_calls_data.iloc[1000].C_IV,\n",
    "              T=df_calls_data.iloc[1000].DTE/360,\n",
    "              r=-0.01)"
   ]
  },
  {
   "cell_type": "code",
   "execution_count": null,
   "metadata": {},
   "outputs": [],
   "source": [
    "df_calls_data = df_calls_data.groupby(['Expiry_Bucket','QUOTE_DATE','BS_Delta_Bucket'])[['UNDERLYING_LAST', 'C_IV', 'C_MID', 'C_DELTA', 'C_VEGA', 'DTE']].mean().copy()\n",
    "df_calls_data = df_calls_data.dropna()"
   ]
  },
  {
   "cell_type": "code",
   "execution_count": null,
   "metadata": {},
   "outputs": [],
   "source": [
    "df_calls_data"
   ]
  },
  {
   "cell_type": "code",
   "execution_count": null,
   "metadata": {},
   "outputs": [],
   "source": [
    "df_calls_data.index.get_level_values(0).unique().to_list()"
   ]
  },
  {
   "cell_type": "code",
   "execution_count": null,
   "metadata": {},
   "outputs": [],
   "source": [
    "def sse(params):\n",
    "\n",
    "    total_sse = 0.0\n",
    "\n",
    "    a = params[0]\n",
    "    b = params[1]\n",
    "    c = params[2]\n",
    "\n",
    "    for expiry in df_calls_data.index.get_level_values(0).unique().to_list():\n",
    "\n",
    "        delta_f = df_calls_data.xs(expiry).groupby(level=1)['C_MID'].diff()\n",
    "        delta_s = df_calls_data.xs(expiry).groupby(level=1)['UNDERLYING_LAST'].diff()\n",
    "        delta_bs = df_calls_data.xs(expiry).groupby(level=1).diff().index.get_level_values(1)\n",
    "        vega_bs = df_calls_data.xs(expiry)['C_VEGA']*100\n",
    "        dte = df_calls_data.xs(expiry)['DTE']/360\n",
    "        underlying = df_calls_data.xs(expiry)['UNDERLYING_LAST']\n",
    "        \n",
    "        error_bs = delta_f - delta_bs*delta_s\n",
    "        error_mv = error_bs - (vega_bs*delta_s/(np.sqrt(dte)*underlying))*(a + b*delta_bs + c*(delta_bs**2))\n",
    "        error_mv = error_mv.dropna()\n",
    "    \n",
    "        total_sse += sum(error_mv**2)\n",
    "    \n",
    "    return total_sse\n"
   ]
  },
  {
   "cell_type": "code",
   "execution_count": null,
   "metadata": {},
   "outputs": [],
   "source": [
    "sse(np.array([0,0,0]))"
   ]
  },
  {
   "cell_type": "code",
   "execution_count": null,
   "metadata": {},
   "outputs": [],
   "source": [
    "df_foo2 = df_calls_data.xs('6M', level=1)\n",
    "\n",
    "df_foo2 = df_foo2.groupby(['BS_Delta_Bucket','QUOTE_DATE'])[['UNDERLYING_LAST', 'C_IV', 'C_LAST', 'C_DELTA', 'C_VEGA', 'DTE']].mean()\n",
    "\n",
    "list_slopes = []\n",
    "\n",
    "for delta_bucket in df_foo2.index.get_level_values(0).unique():\n",
    "\n",
    "    df_loop = df_foo2.loc[delta_bucket]\n",
    "    df_loop['Delta_S'] = df_loop['UNDERLYING_LAST'].diff()/df_loop['UNDERLYING_LAST']\n",
    "    \n",
    "    df_loop['Delta_IV'] = df_loop['C_IV'].diff()\n",
    "\n",
    "    df_loop = df_loop.dropna()\n",
    "\n",
    "    x = df_loop['Delta_IV']\n",
    "    y = df_loop['Delta_S']\n",
    "\n",
    "    slope, intercept, r, p, std_err = scipy.stats.linregress(x, y)\n",
    "    fitted_data = list(map(fitted_line, x))\n",
    "\n",
    "    # plt.scatter(x = df_loop['Delta_IV'],\n",
    "    #             y = df_loop['Delta_S'])\n",
    "\n",
    "    # plt.plot(x, fitted_data)\n",
    "\n",
    "    # plt.show()\n",
    "    list_slopes.append(slope)\n",
    "    # print(f\"\"\"Linear Regression - Log Std Deviation of Prices vs Log Simulations: \\n\n",
    "    #     Slope:{slope}\\n\n",
    "    #     Intercept:{intercept}\\n  \n",
    "    #     R²: {r**2}\"\"\")\n",
    "    \n",
    "    # print(delta_bucket)\n"
   ]
  },
  {
   "cell_type": "code",
   "execution_count": null,
   "metadata": {},
   "outputs": [],
   "source": [
    "df_foo2 = df_foo2.reset_index().sort_values(['QUOTE_DATE','BS_Delta_Bucket']).set_index(['QUOTE_DATE','BS_Delta_Bucket'])\n",
    "quote_dates = df_foo2.index.get_level_values(0).unique()"
   ]
  },
  {
   "cell_type": "code",
   "execution_count": null,
   "metadata": {},
   "outputs": [],
   "source": [
    "def epsilon_mv(df_t0, df_t1, a, b, c):\n",
    "\n",
    "    available_deltas = list(set(df_t0.index).intersection(df_t1.index))\n",
    "    df_t0 = df_t0.loc[available_deltas]\n",
    "    df_t1 = df_t1.loc[available_deltas]\n",
    "\n",
    "    epsilon_bs = (df_t0.C_LAST-df_t1.C_LAST) - df_t1.C_DELTA*(df_t0.UNDERLYING_LAST - df_t1.UNDERLYING_LAST)\n",
    "    epsilon_mv = epsilon_bs - ((df_t1.C_VEGA*100*(df_t0.UNDERLYING_LAST - df_t1.UNDERLYING_LAST))/(np.sqrt(df_t1.DTE/360)*df_t1.UNDERLYING_LAST))*(a+b*df_t1.index+c*(df_t1.index**2))\n",
    "    return epsilon_mv"
   ]
  },
  {
   "cell_type": "code",
   "execution_count": null,
   "metadata": {},
   "outputs": [],
   "source": [
    "epsilon_mv_total = []\n",
    "\n",
    "for i in range(len(quote_dates)-1):\n",
    "\n",
    "    epsilon_mv_total.append(epsilon_mv(df_foo2.loc[quote_dates[i]], df_foo2.loc[quote_dates[i-1]], a=0,b=0,c=0).to_list())\n",
    "\n",
    "SSE = sum([sum(np.array(error)**2) for error in epsilon_mv_total])\n",
    "print(np.sqrt(SSE))"
   ]
  },
  {
   "cell_type": "code",
   "execution_count": null,
   "metadata": {},
   "outputs": [],
   "source": [
    "quote_dates[i]"
   ]
  },
  {
   "cell_type": "code",
   "execution_count": null,
   "metadata": {},
   "outputs": [],
   "source": [
    "np.sqrt(sum([sum(epsilon_mv(df_foo2.loc[quote_dates[i]], df_foo2.loc[quote_dates[i-1]], a=0,b=0,c=0)**2) for i in range(len(quote_dates)-1)]))"
   ]
  },
  {
   "cell_type": "code",
   "execution_count": null,
   "metadata": {},
   "outputs": [],
   "source": [
    "    \n",
    "def sse_mv(params):\n",
    "\n",
    "    a = params[0]\n",
    "    b = params[1]\n",
    "    c= params[2]\n",
    "\n",
    "    epsilon_mv_total = []\n",
    "\n",
    "    for i in range(len(quote_dates)-1):\n",
    "\n",
    "        epsilon_mv_total.append(epsilon_mv(df_foo2.loc[quote_dates[i]], df_foo2.loc[quote_dates[i-1]], a=a,b=b,c=c).to_list())\n",
    "\n",
    "    return sum([sum(np.array(error)**2) for error in epsilon_mv_total])"
   ]
  },
  {
   "cell_type": "code",
   "execution_count": null,
   "metadata": {},
   "outputs": [],
   "source": [
    "result = minimize(fun=sse,\n",
    "         x0=np.array([0, 0, 0]),\n",
    "         method='Nelder-Mead',\n",
    "         )\n",
    "\n",
    "print(result)"
   ]
  },
  {
   "cell_type": "code",
   "execution_count": null,
   "metadata": {},
   "outputs": [],
   "source": [
    "np.sqrt(sse_mv(result.x))"
   ]
  },
  {
   "cell_type": "code",
   "execution_count": null,
   "metadata": {},
   "outputs": [],
   "source": [
    "df_calls_data"
   ]
  },
  {
   "cell_type": "code",
   "execution_count": null,
   "metadata": {},
   "outputs": [],
   "source": [
    "a,b,c = result.x\n",
    "\n",
    "y = df_calls_data.xs('2012-12-31',level=1).xs('9M', level=0)\n",
    "plt.scatter(x=y.index,y=y.index + y.C_VEGA*10/(y.UNDERLYING_LAST*np.sqrt(y.DTE/360))*(a+b*y.index+c*(y.index**2)))"
   ]
  },
  {
   "cell_type": "code",
   "execution_count": null,
   "metadata": {},
   "outputs": [],
   "source": [
    "(y.C_VEGA/(y.UNDERLYING_LAST*np.sqrt(y.DTE/360))*(a+b*y.index+c*(y.index**2)))"
   ]
  },
  {
   "cell_type": "code",
   "execution_count": null,
   "metadata": {},
   "outputs": [],
   "source": [
    "c*(y.index**2)"
   ]
  },
  {
   "cell_type": "code",
   "execution_count": null,
   "metadata": {},
   "outputs": [],
   "source": [
    "y = df_option_data.iloc[28364]\n",
    "print(y.head(20))\n",
    "print(black_scholes(S=y.UNDERLYING_LAST,K=y.STRIKE,sigma=y.C_IV,T=y.DTE/360,r=0.0))\n",
    "bs_delta(S=y.UNDERLYING_LAST,K=y.STRIKE,sigma=y.C_IV,T=y.DTE/360,r=0)"
   ]
  },
  {
   "cell_type": "code",
   "execution_count": null,
   "metadata": {},
   "outputs": [],
   "source": [
    "np.sqrt(sse_mv(np.array([-0.2,.4,-.5])))"
   ]
  },
  {
   "cell_type": "code",
   "execution_count": null,
   "metadata": {},
   "outputs": [],
   "source": [
    "np.sqrt(sse(np.array([-3.090e+00, 1.269e+01, -1.925e+01])))"
   ]
  },
  {
   "cell_type": "code",
   "execution_count": null,
   "metadata": {},
   "outputs": [],
   "source": [
    "# for prettier numpy prints\n",
    "np.set_printoptions(precision = 6)"
   ]
  },
  {
   "cell_type": "code",
   "execution_count": null,
   "metadata": {},
   "outputs": [],
   "source": [
    "sse(np.array([0,0,0]))"
   ]
  },
  {
   "cell_type": "code",
   "execution_count": null,
   "metadata": {},
   "outputs": [],
   "source": [
    "np.sqrt(sse(result.x))"
   ]
  },
  {
   "cell_type": "code",
   "execution_count": null,
   "metadata": {},
   "outputs": [],
   "source": [
    "call"
   ]
  },
  {
   "cell_type": "code",
   "execution_count": null,
   "metadata": {},
   "outputs": [],
   "source": [
    "result.x"
   ]
  },
  {
   "cell_type": "code",
   "execution_count": null,
   "metadata": {},
   "outputs": [],
   "source": [
    "np.sqrt(sse([0,0,0]))"
   ]
  },
  {
   "cell_type": "code",
   "execution_count": null,
   "metadata": {},
   "outputs": [],
   "source": [
    "df_calls_data"
   ]
  },
  {
   "cell_type": "code",
   "execution_count": null,
   "metadata": {},
   "outputs": [],
   "source": [
    "[i/np.sqrt(360) for i in [-3.400e+00 ,1.478e+01, -2.341e+01]]"
   ]
  },
  {
   "cell_type": "code",
   "execution_count": null,
   "metadata": {},
   "outputs": [],
   "source": [
    "quote_dates"
   ]
  },
  {
   "cell_type": "code",
   "execution_count": null,
   "metadata": {},
   "outputs": [],
   "source": [
    "df_foo2.loc[quote_dates[i-1]].index"
   ]
  },
  {
   "cell_type": "code",
   "execution_count": null,
   "metadata": {},
   "outputs": [],
   "source": [
    "list(set(df_foo2.loc[quote_dates[i-1]].index).intersection(df_foo2.loc[quote_dates[i]].index))"
   ]
  },
  {
   "cell_type": "code",
   "execution_count": null,
   "metadata": {},
   "outputs": [],
   "source": [
    "sum(epsilon_mv(df_foo2.loc[quote_dates[i]], df_foo2.loc[quote_dates[i-1]], a=-.0,b=0,c=0)**2)"
   ]
  },
  {
   "cell_type": "code",
   "execution_count": null,
   "metadata": {},
   "outputs": [],
   "source": [
    "epsilon_mv(df_foo2.loc[quote_dates[i]], df_foo2.loc[quote_dates[i-1]], a=-.05,b=0,c=-.6).to_list()"
   ]
  },
  {
   "cell_type": "code",
   "execution_count": null,
   "metadata": {},
   "outputs": [],
   "source": [
    "quote_dates[i-1]"
   ]
  },
  {
   "cell_type": "code",
   "execution_count": null,
   "metadata": {},
   "outputs": [],
   "source": [
    "df_t0"
   ]
  },
  {
   "cell_type": "code",
   "execution_count": null,
   "metadata": {},
   "outputs": [],
   "source": [
    "a,b,c=0,0,0\n",
    "i=30\n",
    "df_t0 = df_foo2.loc[quote_dates[i]]\n",
    "df_t1 = df_foo2.loc[quote_dates[i-1]]\n",
    "\n",
    "available_deltas = list(set(df_t0.index).intersection(df_t1.index))\n",
    "df_t0 = df_t0.loc[available_deltas]\n",
    "df_t1 = df_t1.loc[available_deltas]\n",
    "\n",
    "epsilon_bs = (df_t0.C_LAST-df_t1.C_LAST) - df_t1.C_DELTA*(df_t0.UNDERLYING_LAST - df_t1.UNDERLYING_LAST)\n",
    "epsilon_mv = epsilon_bs - ((df_t1.C_VEGA*(df_t0.UNDERLYING_LAST - df_t1.UNDERLYING_LAST))/(np.sqrt(df_t1.DTE/360)*df_t1.UNDERLYING_LAST))*(a+b*df_t1.index+c*(df_t1.index**2))"
   ]
  },
  {
   "cell_type": "code",
   "execution_count": null,
   "metadata": {},
   "outputs": [],
   "source": [
    "(df_t0.C_LAST-df_t1.C_LAST)"
   ]
  },
  {
   "cell_type": "code",
   "execution_count": null,
   "metadata": {},
   "outputs": [],
   "source": [
    "df_t1.C_DELTA*(df_t0.UNDERLYING_LAST - df_t1.UNDERLYING_LAST)"
   ]
  },
  {
   "cell_type": "code",
   "execution_count": null,
   "metadata": {},
   "outputs": [],
   "source": [
    "sum(epsilon_bs**2)"
   ]
  },
  {
   "cell_type": "code",
   "execution_count": null,
   "metadata": {},
   "outputs": [],
   "source": [
    "a=.0\n",
    "((df_t1.C_VEGA*100*(df_t0.UNDERLYING_LAST - df_t1.UNDERLYING_LAST))/(np.sqrt(df_t1.DTE/360)*df_t1.UNDERLYING_LAST))*(a+b*df_t1.index+c*(df_t1.index**2))"
   ]
  },
  {
   "cell_type": "code",
   "execution_count": null,
   "metadata": {},
   "outputs": [],
   "source": [
    "df_t0.UNDERLYING_LAST"
   ]
  },
  {
   "cell_type": "code",
   "execution_count": null,
   "metadata": {},
   "outputs": [],
   "source": [
    "df_foo2.loc[quote_dates[i-1]]"
   ]
  },
  {
   "cell_type": "code",
   "execution_count": null,
   "metadata": {},
   "outputs": [],
   "source": [
    "df_foo2.loc[quote_dates[i],['C_LAST', 'C_BID', 'C_ASK']]"
   ]
  },
  {
   "cell_type": "code",
   "execution_count": null,
   "metadata": {},
   "outputs": [],
   "source": [
    "plt.plot((df_foo2.loc['2010-01-05'].C_LAST-df_foo2.loc['2010-01-06'].C_LAST)-(df_foo2.loc['2010-01-05'].UNDERLYING_LAST-df_foo2.loc['2010-01-06'].UNDERLYING_LAST)*df_foo2.loc['2010-01-05'].C_DELTA)"
   ]
  },
  {
   "cell_type": "code",
   "execution_count": null,
   "metadata": {},
   "outputs": [],
   "source": [
    "df_foo2.index.get_level_values(0).unique()"
   ]
  },
  {
   "cell_type": "code",
   "execution_count": null,
   "metadata": {},
   "outputs": [],
   "source": [
    "list_slopes = np.sqrt(df_foo2.groupby('BS_Delta_Bucket')['DTE'].mean().values/360)*list_slopes\n",
    "\n",
    "x = df_foo2.index.get_level_values(0).unique()\n",
    "y = list_slopes\n",
    "\n",
    "model = np.poly1d(np.polyfit(x, y, 2))\n",
    "\n",
    "#add fitted polynomial line to scatterplot\n",
    "plt.scatter(x, y)\n",
    "plt.plot(x, model(x))\n",
    "\n",
    "print(model)\n",
    "plt.show()\n",
    "\n"
   ]
  },
  {
   "cell_type": "code",
   "execution_count": null,
   "metadata": {},
   "outputs": [],
   "source": [
    "for i in df_foo2.index.get_level_values(0).unique():\n",
    "\n",
    "    df_foo2.loc[i]"
   ]
  },
  {
   "cell_type": "code",
   "execution_count": null,
   "metadata": {},
   "outputs": [],
   "source": [
    "df_foo2.loc[.5].C_LAST.diff().plot()"
   ]
  },
  {
   "cell_type": "code",
   "execution_count": null,
   "metadata": {},
   "outputs": [],
   "source": [
    "plt.plot(df_foo2.loc[i].C_DELTA)"
   ]
  },
  {
   "cell_type": "code",
   "execution_count": null,
   "metadata": {},
   "outputs": [],
   "source": [
    "i=.5\n",
    "plt.plot(df_foo2.loc[i].UNDERLYING_LAST.diff()*df_foo2.loc[i].C_DELTA)\n",
    "plt.plot(df_foo2.loc[i].C_LAST.diff())"
   ]
  },
  {
   "cell_type": "code",
   "execution_count": null,
   "metadata": {},
   "outputs": [],
   "source": [
    "df_foo2.loc[i].C_LAST.diff()"
   ]
  },
  {
   "cell_type": "code",
   "execution_count": null,
   "metadata": {},
   "outputs": [],
   "source": [
    "y"
   ]
  },
  {
   "cell_type": "code",
   "execution_count": null,
   "metadata": {},
   "outputs": [],
   "source": []
  },
  {
   "cell_type": "markdown",
   "metadata": {},
   "source": [
    "#### $ \\Delta f - \\delta_{bs}\\Delta S = \\frac{\\nu_{bs}}{\\sqrt{T}}\\frac{\\Delta S}{S}(a+b\\delta_{bs}+\\delta^{2}_{bs}) $"
   ]
  },
  {
   "cell_type": "code",
   "execution_count": null,
   "metadata": {},
   "outputs": [],
   "source": [
    "df_foo2.loc[i,'UNDERLYING_LAST'].diff()*df_foo2.loc[i,'C_VEGA']/(np.sqrt(df_foo2.loc[i,'DTE'])*df_foo2.loc[i,'UNDERLYING_LAST'])"
   ]
  },
  {
   "cell_type": "code",
   "execution_count": null,
   "metadata": {},
   "outputs": [],
   "source": [
    "x = (df_foo2.loc[i]['UNDERLYING_LAST'].diff()*df_foo2.loc[i]['C_DELTA']).dropna()\n",
    "y = df_foo2.loc[i]['C_LAST'].diff().dropna()\n",
    "\n",
    "\n",
    "slope, intercept, r, p, std_err = scipy.stats.linregress(x, y)\n",
    "\n",
    "def fitted_line(x):\n",
    "  return slope * x + intercept\n",
    "\n",
    "fitted_data = list(map(fitted_line, x))\n",
    "\n",
    "plt.scatter(x = x,\n",
    "            y = y)\n",
    "\n",
    "plt.plot(x, fitted_data)\n",
    "\n",
    "plt.show()\n",
    "\n",
    "print(f\"\"\"Linear Regression - Change in Option Price vs PnL Delta: \\n\n",
    "      Slope:{slope}\\n\n",
    "      Intercept:{intercept}\\n  \n",
    "      R²: {r**2}\"\"\")"
   ]
  },
  {
   "cell_type": "code",
   "execution_count": null,
   "metadata": {},
   "outputs": [],
   "source": []
  },
  {
   "cell_type": "code",
   "execution_count": null,
   "metadata": {},
   "outputs": [],
   "source": [
    "props = dict(boxstyle='round', facecolor='wheat', alpha=0.5)\n",
    "\n",
    "data = (x-y).values\n",
    "bins = 30\n",
    "\n",
    "bins = np.histogram(data, \n",
    "                    bins=30)[1]\n",
    "\n",
    "bins = [float(x) for x in bins]\n",
    "\n",
    "\n",
    "fig, ax = plt.subplots(figsize=(25,16))\n",
    "\n",
    "sns.histplot(data,stat='density',\n",
    "                bins=30,\n",
    "                ax=ax)\n",
    "\n",
    "sns.lineplot(ax=ax,\n",
    "             x=bins,\n",
    "             y=gaussian(data=data,\n",
    "                        bins=bins),\n",
    "            color='red')\n",
    "\n",
    "\n",
    "textstr = '\\n'.join((\n",
    "    r'$\\mu=%.2f$' % (np.mean(data), ),\n",
    "    r'$\\mathrm{median}=%.2f$' % (np.median(data), ),\n",
    "    r'$\\sigma=%.2f$' % (np.std(data), ),\n",
    "    r'$\\frac{\\sigma}{\\mu}=%.2f$'% (np.std(data)*100/np.mean(data), )+'%'))\n",
    "\n",
    "ax.text(0.1, 0.95, textstr, \n",
    "            horizontalalignment='center', \n",
    "            verticalalignment='top', \n",
    "            transform=ax.transAxes, \n",
    "            bbox=props)"
   ]
  },
  {
   "cell_type": "code",
   "execution_count": null,
   "metadata": {},
   "outputs": [],
   "source": [
    "props = dict(boxstyle='round', facecolor='wheat', alpha=0.5)\n",
    "\n",
    "data = (x).values\n",
    "bins = 30\n",
    "\n",
    "bins = np.histogram(data, \n",
    "                    bins=30)[1]\n",
    "\n",
    "bins = [float(x) for x in bins]\n",
    "\n",
    "\n",
    "fig, ax = plt.subplots(figsize=(25,16))\n",
    "\n",
    "sns.histplot(data,stat='density',\n",
    "                bins=30,\n",
    "                ax=ax)\n",
    "\n",
    "sns.lineplot(ax=ax,\n",
    "             x=bins,\n",
    "             y=gaussian(data=data,\n",
    "                        bins=bins),\n",
    "            color='red')\n",
    "\n",
    "\n",
    "textstr = '\\n'.join((\n",
    "    r'$\\mu=%.2f$' % (np.mean(data), ),\n",
    "    r'$\\mathrm{median}=%.2f$' % (np.median(data), ),\n",
    "    r'$\\sigma=%.2f$' % (np.std(data), ),\n",
    "    r'$\\frac{\\sigma}{\\mu}=%.2f$'% (np.std(data)*100/np.mean(data), )+'%'))\n",
    "\n",
    "ax.text(0.1, 0.95, textstr, \n",
    "            horizontalalignment='center', \n",
    "            verticalalignment='top', \n",
    "            transform=ax.transAxes, \n",
    "            bbox=props)"
   ]
  }
 ],
 "metadata": {
  "kernelspec": {
   "display_name": "Python 3",
   "language": "python",
   "name": "python3"
  },
  "language_info": {
   "codemirror_mode": {
    "name": "ipython",
    "version": 3
   },
   "file_extension": ".py",
   "mimetype": "text/x-python",
   "name": "python",
   "nbconvert_exporter": "python",
   "pygments_lexer": "ipython3",
   "version": "3.12.0"
  }
 },
 "nbformat": 4,
 "nbformat_minor": 2
}
